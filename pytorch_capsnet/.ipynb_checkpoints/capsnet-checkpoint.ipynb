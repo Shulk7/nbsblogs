{
 "cells": [
  {
   "cell_type": "markdown",
   "metadata": {},
   "source": [
    "My implementation of capsnet. \n",
    "\n",
    "My goal is to understand the dynamic routing algorithm, implement it for the simplest ff neural net.\n",
    "\n",
    "https://github.com/gram-ai/capsule-networks\n",
    "    \n",
    "https://github.com/XifengGuo/CapsNet-Keras\n",
    "    \n",
    "https://github.com/naturomics/CapsNet-Tensorflow/blob/master/capsNet.py\n",
    "\n",
    "https://medium.com/ai³-theory-practice-business/understanding-hintons-capsule-networks-part-i-intuition-b4b559d1159b\n",
    "\n",
    "https://medium.com/ai³-theory-practice-business/understanding-hintons-capsule-networks-part-ii-how-capsules-work-153b6ade9f66\n",
    "\n",
    "\n",
    "concepts to understand...\n",
    "\n",
    "Vector Norms:\n",
    "\n",
    "http://mathworld.wolfram.com/VectorNorm.html\n",
    "\n",
    "\n",
    "Squashing function:\n",
    "\n",
    "\n"
   ]
  },
  {
   "cell_type": "code",
   "execution_count": 2,
   "metadata": {
    "collapsed": true
   },
   "outputs": [],
   "source": [
    "import numpy as np\n",
    "import torch\n",
    "import torch.nn.functional as F\n",
    "from torch import nn"
   ]
  },
  {
   "cell_type": "code",
   "execution_count": 18,
   "metadata": {
    "collapsed": true
   },
   "outputs": [],
   "source": [
    "# parameters\n",
    "\n",
    "# the number of times to run\n",
    "# the routing clusters until we\n",
    "# choose where to send each output\n",
    "num_routing_iterations = 3\n",
    "\n",
    "def to_variable(x):\n",
    "    if torch.cuda.is_available():\n",
    "        x = x.cuda()\n",
    "    return Variable(x)"
   ]
  },
  {
   "cell_type": "code",
   "execution_count": 4,
   "metadata": {},
   "outputs": [
    {
     "ename": "SyntaxError",
     "evalue": "invalid syntax (<ipython-input-4-06ee51a36d1a>, line 5)",
     "output_type": "error",
     "traceback": [
      "\u001b[0;36m  File \u001b[0;32m\"<ipython-input-4-06ee51a36d1a>\"\u001b[0;36m, line \u001b[0;32m5\u001b[0m\n\u001b[0;31m    self.num_route_nodes =\u001b[0m\n\u001b[0m                           ^\u001b[0m\n\u001b[0;31mSyntaxError\u001b[0m\u001b[0;31m:\u001b[0m invalid syntax\n"
     ]
    }
   ],
   "source": [
    "class CapsuleLayer(nn.Module):\n",
    "    def __init__(self, n_capsules, n_routes, in_chan, out_chan, n_iterations):\n",
    "        super(CapsuleLayer, self).__init__()\n",
    "        \n",
    "        self.num_route_nodes = n_routes\n",
    "        self.n_iterations = n_iterations\n",
    "        self.route_weights = nn.Parameter(torch.randn(n_capsules, n_routes, in_chan, out_chan))\n",
    "        \n",
    "    def affine(self, u, w):\n",
    "        u = u[None, :, :, None, :]\n",
    "        w = w[:, None, :, :, :]\n",
    "        u_hat = torch.matmul(u, w)\n",
    "        return u_hat\n",
    "    \n",
    "    def routing_sum(self, u_hat):\n",
    "        logits = to_variable(torch.zeros(u_hat.shape)).cuda()\n",
    "        for i in range(self.n_iterations):\n",
    "            if i == self.n_iterations - 1:\n",
    "                break\n",
    "            probs = softmax(logits, dim=2)\n",
    "            outputs = self.squash(probs*weighted_inputs).sum(dim=2, keepdim=True)\n",
    "            delta_logits = (weighted_inputs * outputs).sum(dim=-1, keepdim=True)\n",
    "            logits = logits + delta_logits\n",
    "        return s\n",
    "        \n",
    "    def squash(self, s, dim=-1):\n",
    "        squared_norm = torch.sum(torch.pow(s, 2))\n",
    "        norm_factor_1 = squared_norm / (1 + squared_norm)\n",
    "        norm_factor_2 = s / torch.sqrt(squared_norm)\n",
    "        v = norm_factor_1 * norm_factor_2\n",
    "        return v\n",
    "    \n",
    "    # inputs is a 3 dimensional vector\n",
    "    # 1 is the number of Us\n",
    "    def forward(self, inputs):\n",
    "        \n",
    "        # reshape inputs and route weights to have same dims\n",
    "        # Nones add 1 at that spot in the shape\n",
    "        u_hat = affine_transform(inputs, self.route_weights)\n",
    "        s = routing_sum(u_hat)\n",
    "        output = squash(s)\n",
    "        return output"
   ]
  },
  {
   "cell_type": "code",
   "execution_count": 22,
   "metadata": {},
   "outputs": [
    {
     "data": {
      "text/plain": [
       "torch.Size([5, 4, 6, 2, 1])"
      ]
     },
     "execution_count": 22,
     "metadata": {},
     "output_type": "execute_result"
    }
   ],
   "source": [
    "x.shape"
   ]
  },
  {
   "cell_type": "code",
   "execution_count": 23,
   "metadata": {},
   "outputs": [
    {
     "data": {
      "text/plain": [
       "torch.Size([5, 4, 6, 2, 1])"
      ]
     },
     "execution_count": 23,
     "metadata": {},
     "output_type": "execute_result"
    }
   ],
   "source": [
    "torch.zeros(x.shape).shape"
   ]
  },
  {
   "cell_type": "code",
   "execution_count": 10,
   "metadata": {},
   "outputs": [],
   "source": [
    "x = torch.randn(5, 4, 6, 2, 1)"
   ]
  },
  {
   "cell_type": "code",
   "execution_count": 11,
   "metadata": {},
   "outputs": [
    {
     "data": {
      "text/plain": [
       "torch.Size([5, 4, 6, 2, 1])"
      ]
     },
     "execution_count": 11,
     "metadata": {},
     "output_type": "execute_result"
    }
   ],
   "source": [
    "x.shape"
   ]
  },
  {
   "cell_type": "code",
   "execution_count": 12,
   "metadata": {},
   "outputs": [
    {
     "data": {
      "text/plain": [
       "torch.Size([1, 5, 4, 1, 6, 2, 1])"
      ]
     },
     "execution_count": 12,
     "metadata": {},
     "output_type": "execute_result"
    }
   ],
   "source": [
    "x[None, :, :, None, :].shape"
   ]
  },
  {
   "cell_type": "code",
   "execution_count": null,
   "metadata": {
    "collapsed": true
   },
   "outputs": [],
   "source": []
  }
 ],
 "metadata": {
  "kernelspec": {
   "display_name": "Python 3",
   "language": "python",
   "name": "python3"
  },
  "language_info": {
   "codemirror_mode": {
    "name": "ipython",
    "version": 3
   },
   "file_extension": ".py",
   "mimetype": "text/x-python",
   "name": "python",
   "nbconvert_exporter": "python",
   "pygments_lexer": "ipython3",
   "version": "3.6.2"
  }
 },
 "nbformat": 4,
 "nbformat_minor": 2
}
