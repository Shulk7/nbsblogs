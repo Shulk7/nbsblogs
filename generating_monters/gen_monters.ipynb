{
 "cells": [
  {
   "cell_type": "markdown",
   "metadata": {},
   "source": [
    "Huge thanks to @devnag on github for the pytorch sample code. I've never done GANs in pytorch before (only tensorflow).\n",
    "\n",
    "refs:\n",
    "\n",
    "https://github.com/pytorch/examples/blob/master/dcgan/main.py\n",
    "https://github.com/devnag/pytorch-generative-adversarial-networks/blob/master/gan_pytorch.py\n",
    "\n",
    "https://github.com/yunjey/pytorch-tutorial/blob/master/tutorials/03-advanced/deep_convolutional_gan/model.py"
   ]
  },
  {
   "cell_type": "code",
   "execution_count": 1,
   "metadata": {},
   "outputs": [],
   "source": [
    "import os\n",
    "import numpy as np"
   ]
  },
  {
   "cell_type": "code",
   "execution_count": 2,
   "metadata": {},
   "outputs": [],
   "source": [
    "import torch\n",
    "import torch.nn as nn\n",
    "import torch.nn.functional as F\n",
    "import torch.optim as optim\n",
    "from torch.autograd import Variable\n",
    "from torchvision.datasets import ImageFolder\n",
    "from torchvision import transforms, datasets\n",
    "from torch.utils import data"
   ]
  },
  {
   "cell_type": "code",
   "execution_count": 3,
   "metadata": {},
   "outputs": [],
   "source": [
    "# params \n",
    "batch_size = 24\n",
    "lr = 0.00001\n",
    "image_path = os.path.join('imgs', 'test')\n",
    "# params generator\n",
    "noise_dim = 100\n",
    "g_filter_depth = 64\n",
    "g_kernel_size = 4\n",
    "g_stride = 2\n",
    "g_padding = 1\n",
    "# params discriminator\n",
    "d_filter_depth_in = 1\n",
    "d_filter_depth = 64\n",
    "d_kernel_size = 4\n",
    "d_stride = 2\n",
    "d_padding = 1"
   ]
  },
  {
   "cell_type": "code",
   "execution_count": 4,
   "metadata": {},
   "outputs": [],
   "source": [
    "class Generator(nn.Module):\n",
    "    def __init__(self):\n",
    "        super(Generator, self).__init__()\n",
    "        self.main = nn.Sequential(\n",
    "            nn.ConvTranspose2d(noise_dim, \n",
    "                              g_filter_depth*8, \n",
    "                              kernel_size=4, \n",
    "                              stride=1, \n",
    "                              padding=0,\n",
    "                              bias=False),\n",
    "            nn.BatchNorm2d(g_filter_depth*8),\n",
    "            nn.LeakyReLU(0.2),\n",
    "            \n",
    "            nn.ConvTranspose2d(g_filter_depth*8, \n",
    "                              g_filter_depth*4, \n",
    "                              kernel_size=g_kernel_size, \n",
    "                              stride=2,\n",
    "                              padding=1,\n",
    "                              bias=False),\n",
    "            nn.BatchNorm2d(g_filter_depth*4),\n",
    "            nn.LeakyReLU(0.2),\n",
    "            \n",
    "            nn.ConvTranspose2d(g_filter_depth*4, \n",
    "                              g_filter_depth*2, \n",
    "                              kernel_size=g_kernel_size, \n",
    "                              stride=2, \n",
    "                              padding=1,\n",
    "                              bias=False),\n",
    "            nn.BatchNorm2d(g_filter_depth*2),\n",
    "            nn.LeakyReLU(0.2),\n",
    "            \n",
    "            nn.ConvTranspose2d(g_filter_depth*2, \n",
    "                              g_filter_depth, \n",
    "                              kernel_size=g_kernel_size, \n",
    "                              stride=2, \n",
    "                              padding=1,\n",
    "                              bias=False),\n",
    "            nn.BatchNorm2d(g_filter_depth),\n",
    "            nn.LeakyReLU(0.2),\n",
    "            \n",
    "            nn.ConvTranspose2d(g_filter_depth, \n",
    "                               d_filter_depth_in,\n",
    "                               kernel_size=g_kernel_size,\n",
    "                               stride=2,\n",
    "                               padding=1,\n",
    "                               bias=False),\n",
    "            nn.Tanh()\n",
    "        )\n",
    "        \n",
    "    def forward(self, inputs):\n",
    "        inputs = inputs.view(inputs.size(0), inputs.size(1), 1, 1)\n",
    "        output = self.main(inputs)\n",
    "        return output\n",
    "    \n",
    "class Discriminator(nn.Module):\n",
    "    def __init__(self):\n",
    "        super(Discriminator, self).__init__()\n",
    "        self.main = nn.Sequential(\n",
    "            nn.Conv2d(in_channels=d_filter_depth_in, \n",
    "                      out_channels=d_filter_depth, \n",
    "                      kernel_size=4, \n",
    "                      stride=2,\n",
    "                      padding=1,\n",
    "                      bias=False),\n",
    "            nn.LeakyReLU(0.2),\n",
    "            \n",
    "            nn.Conv2d(in_channels=d_filter_depth, \n",
    "                      out_channels=d_filter_depth*2, \n",
    "                      kernel_size=4, \n",
    "                      stride=2,\n",
    "                      padding=1,\n",
    "                      bias=False),\n",
    "            nn.BatchNorm2d(d_filter_depth*2),\n",
    "            nn.LeakyReLU(0.2),\n",
    "            \n",
    "            nn.Conv2d(in_channels=d_filter_depth*2, \n",
    "                      out_channels=d_filter_depth*4, \n",
    "                      kernel_size=4, \n",
    "                      stride=2,\n",
    "                      padding=1,\n",
    "                      bias=False),\n",
    "            nn.BatchNorm2d(d_filter_depth*4),\n",
    "            nn.LeakyReLU(0.2),\n",
    "            \n",
    "            nn.Conv2d(in_channels=d_filter_depth*4, \n",
    "                      out_channels=d_filter_depth*8, \n",
    "                      kernel_size=4, \n",
    "                      stride=2,\n",
    "                      padding=1,\n",
    "                      bias=False),\n",
    "            nn.BatchNorm2d(d_filter_depth*8),\n",
    "            nn.LeakyReLU(0.2),\n",
    "            \n",
    "            nn.Conv2d(in_channels=d_filter_depth*8, \n",
    "                      out_channels=1, \n",
    "                      kernel_size=4, \n",
    "                      stride=2,\n",
    "                      padding=1,\n",
    "                      bias=False),\n",
    "            nn.Sigmoid()\n",
    "        )\n",
    "    def forward(self, inputs):\n",
    "        output = self.main(inputs)\n",
    "        return output"
   ]
  },
  {
   "cell_type": "code",
   "execution_count": 5,
   "metadata": {},
   "outputs": [],
   "source": [
    "def weights_init(m):\n",
    "    '''\n",
    "    initialize weights for a layer with\n",
    "    the right initialization\n",
    "    '''\n",
    "    classname = m.__class__.__name__\n",
    "    if classname.find('Conv') != -1:\n",
    "        m.weight.data.normal_(0.0, 0.02)\n",
    "    elif classname.find('BatchNorm') != -1:\n",
    "        m.weight.data.normal_(1.0,0.02)\n",
    "        m.bias.data.fill_(0)\n",
    "        \n",
    "def to_variable(x):\n",
    "    '''\n",
    "    convert a tensor to a variable\n",
    "    with gradient tracking\n",
    "    '''\n",
    "    if torch.cuda.is_available():\n",
    "        x = x .cuda()\n",
    "    return Variable(x)\n",
    "\n",
    "def denorm(x):\n",
    "    '''\n",
    "    convert images to be (0, 1)\n",
    "    '''\n",
    "    renorm = (x+1)/2\n",
    "    return renorm.clamp(0,1)"
   ]
  },
  {
   "cell_type": "code",
   "execution_count": 10,
   "metadata": {},
   "outputs": [],
   "source": [
    "n_epochs = 1\n",
    "\n",
    "monster_transform = transforms.Compose([\n",
    "         transforms.Scale(64), \n",
    "         transforms.ToTensor(), \n",
    "         transforms.Normalize((0.5,0.5,0.5), (0.5,0.5,0.5))\n",
    "        ])\n",
    "mnist_transform = transforms.Compose([\n",
    "        transforms.Scale(64),\n",
    "        transforms.ToTensor(),\n",
    "        transforms.Normalize((0.1307,), (0.3081,))\n",
    "        ])\n",
    "\n",
    "# load images\n",
    "monster_dataset = ImageFolder(image_path, monster_transform)\n",
    "\n",
    "mnist_dataset = datasets.MNIST('imgs/mnist', download=True, transform=mnist_transform)\n",
    "\n",
    "# load the data\n",
    "monster_loader = data.DataLoader(dataset=monster_dataset, \n",
    "                              batch_size=batch_size,\n",
    "                              shuffle=True,\n",
    "                              num_workers=1)\n",
    "\n",
    "mnist_loader = data.DataLoader(dataset=mnist_dataset, \n",
    "                              batch_size=batch_size,\n",
    "                              shuffle=True,\n",
    "                              num_workers=1)"
   ]
  },
  {
   "cell_type": "code",
   "execution_count": 55,
   "metadata": {
    "scrolled": true
   },
   "outputs": [
    {
     "name": "stdout",
     "output_type": "stream",
     "text": [
      "torch.Size([24, 1, 64, 64])\n"
     ]
    }
   ],
   "source": [
    "single_mnist_batch = []\n",
    "for x in mnist_loader:\n",
    "    print(x[0].shape)\n",
    "    single_mnist_batch.append(x[0])\n",
    "    break"
   ]
  },
  {
   "cell_type": "code",
   "execution_count": 56,
   "metadata": {},
   "outputs": [
    {
     "data": {
      "text/plain": [
       "torch.Size([1, 24, 1, 64, 64])"
      ]
     },
     "execution_count": 56,
     "metadata": {},
     "output_type": "execute_result"
    }
   ],
   "source": [
    "single_mnist_batch = torch.stack(single_mnist_batch)\n",
    "single_mnist_batch.shape"
   ]
  },
  {
   "cell_type": "code",
   "execution_count": 57,
   "metadata": {},
   "outputs": [],
   "source": [
    "generator = Generator()\n",
    "generator = generator.apply(weights_init)\n",
    "discriminator = Discriminator()\n",
    "discriminator = discriminator.apply(weights_init)\n",
    "d_optimizer = optim.Adam(discriminator.parameters(), lr=lr)\n",
    "g_optimizer = optim.Adam(generator.parameters(), lr=lr)\n",
    "\n",
    "if torch.cuda.is_available():\n",
    "    generator.cuda()\n",
    "    discriminator.cuda()\n",
    "    \n",
    "data_loader = mnist_loader"
   ]
  },
  {
   "cell_type": "code",
   "execution_count": 62,
   "metadata": {
    "scrolled": false
   },
   "outputs": [
    {
     "name": "stdout",
     "output_type": "stream",
     "text": [
      "image 0\n",
      "image 20\n"
     ]
    },
    {
     "name": "stderr",
     "output_type": "stream",
     "text": [
      "Process Process-16:\n",
      "Traceback (most recent call last):\n",
      "  File \"/Users/yvanscher/anaconda/envs/gen_monsters/lib/python3.6/multiprocessing/process.py\", line 258, in _bootstrap\n",
      "    self.run()\n",
      "  File \"/Users/yvanscher/anaconda/envs/gen_monsters/lib/python3.6/multiprocessing/process.py\", line 93, in run\n",
      "    self._target(*self._args, **self._kwargs)\n",
      "  File \"/Users/yvanscher/anaconda/envs/gen_monsters/lib/python3.6/site-packages/torch/utils/data/dataloader.py\", line 34, in _worker_loop\n",
      "    r = index_queue.get()\n",
      "  File \"/Users/yvanscher/anaconda/envs/gen_monsters/lib/python3.6/multiprocessing/queues.py\", line 335, in get\n",
      "    res = self._reader.recv_bytes()\n",
      "  File \"/Users/yvanscher/anaconda/envs/gen_monsters/lib/python3.6/multiprocessing/connection.py\", line 216, in recv_bytes\n",
      "    buf = self._recv_bytes(maxlength)\n",
      "  File \"/Users/yvanscher/anaconda/envs/gen_monsters/lib/python3.6/multiprocessing/connection.py\", line 407, in _recv_bytes\n",
      "    buf = self._recv(4)\n",
      "  File \"/Users/yvanscher/anaconda/envs/gen_monsters/lib/python3.6/multiprocessing/connection.py\", line 379, in _recv\n",
      "    chunk = read(handle, remaining)\n",
      "KeyboardInterrupt\n"
     ]
    },
    {
     "ename": "KeyboardInterrupt",
     "evalue": "",
     "output_type": "error",
     "traceback": [
      "\u001b[0;31m---------------------------------------------------------------------------\u001b[0m",
      "\u001b[0;31mKeyboardInterrupt\u001b[0m                         Traceback (most recent call last)",
      "\u001b[0;32m<ipython-input-62-d53386bed998>\u001b[0m in \u001b[0;36m<module>\u001b[0;34m()\u001b[0m\n\u001b[1;32m     22\u001b[0m         \u001b[0mdiscriminator\u001b[0m\u001b[0;34m.\u001b[0m\u001b[0mzero_grad\u001b[0m\u001b[0;34m(\u001b[0m\u001b[0;34m)\u001b[0m\u001b[0;34m\u001b[0m\u001b[0m\n\u001b[1;32m     23\u001b[0m         \u001b[0mgenerator\u001b[0m\u001b[0;34m.\u001b[0m\u001b[0mzero_grad\u001b[0m\u001b[0;34m(\u001b[0m\u001b[0;34m)\u001b[0m\u001b[0;34m\u001b[0m\u001b[0m\n\u001b[0;32m---> 24\u001b[0;31m         \u001b[0mtotal_loss\u001b[0m\u001b[0;34m.\u001b[0m\u001b[0mbackward\u001b[0m\u001b[0;34m(\u001b[0m\u001b[0;34m)\u001b[0m\u001b[0;34m\u001b[0m\u001b[0m\n\u001b[0m\u001b[1;32m     25\u001b[0m         \u001b[0md_optimizer\u001b[0m\u001b[0;34m.\u001b[0m\u001b[0mstep\u001b[0m\u001b[0;34m(\u001b[0m\u001b[0;34m)\u001b[0m\u001b[0;34m\u001b[0m\u001b[0m\n\u001b[1;32m     26\u001b[0m \u001b[0;34m\u001b[0m\u001b[0m\n",
      "\u001b[0;32m~/anaconda/envs/gen_monsters/lib/python3.6/site-packages/torch/autograd/variable.py\u001b[0m in \u001b[0;36mbackward\u001b[0;34m(self, gradient, retain_graph, create_graph, retain_variables)\u001b[0m\n\u001b[1;32m    154\u001b[0m                 \u001b[0mVariable\u001b[0m\u001b[0;34m.\u001b[0m\u001b[0;34m\u001b[0m\u001b[0m\n\u001b[1;32m    155\u001b[0m         \"\"\"\n\u001b[0;32m--> 156\u001b[0;31m         \u001b[0mtorch\u001b[0m\u001b[0;34m.\u001b[0m\u001b[0mautograd\u001b[0m\u001b[0;34m.\u001b[0m\u001b[0mbackward\u001b[0m\u001b[0;34m(\u001b[0m\u001b[0mself\u001b[0m\u001b[0;34m,\u001b[0m \u001b[0mgradient\u001b[0m\u001b[0;34m,\u001b[0m \u001b[0mretain_graph\u001b[0m\u001b[0;34m,\u001b[0m \u001b[0mcreate_graph\u001b[0m\u001b[0;34m,\u001b[0m \u001b[0mretain_variables\u001b[0m\u001b[0;34m)\u001b[0m\u001b[0;34m\u001b[0m\u001b[0m\n\u001b[0m\u001b[1;32m    157\u001b[0m \u001b[0;34m\u001b[0m\u001b[0m\n\u001b[1;32m    158\u001b[0m     \u001b[0;32mdef\u001b[0m \u001b[0mregister_hook\u001b[0m\u001b[0;34m(\u001b[0m\u001b[0mself\u001b[0m\u001b[0;34m,\u001b[0m \u001b[0mhook\u001b[0m\u001b[0;34m)\u001b[0m\u001b[0;34m:\u001b[0m\u001b[0;34m\u001b[0m\u001b[0m\n",
      "\u001b[0;32m~/anaconda/envs/gen_monsters/lib/python3.6/site-packages/torch/autograd/__init__.py\u001b[0m in \u001b[0;36mbackward\u001b[0;34m(variables, grad_variables, retain_graph, create_graph, retain_variables)\u001b[0m\n\u001b[1;32m     96\u001b[0m \u001b[0;34m\u001b[0m\u001b[0m\n\u001b[1;32m     97\u001b[0m     Variable._execution_engine.run_backward(\n\u001b[0;32m---> 98\u001b[0;31m         variables, grad_variables, retain_graph)\n\u001b[0m\u001b[1;32m     99\u001b[0m \u001b[0;34m\u001b[0m\u001b[0m\n\u001b[1;32m    100\u001b[0m \u001b[0;34m\u001b[0m\u001b[0m\n",
      "\u001b[0;31mKeyboardInterrupt\u001b[0m: "
     ]
    }
   ],
   "source": [
    "for epoch in range(n_epochs):\n",
    "    for i, images in enumerate(mnist_loader):\n",
    "        images = images[0]\n",
    "        # --- train discriminator ---\n",
    "        real_images = to_variable(images)\n",
    "        batch_size = real_images.size(0)\n",
    "        outputs = discriminator(real_images)\n",
    "        real_loss = torch.mean((outputs - 1)**2)\n",
    "        \n",
    "        # make fake images from generator and\n",
    "        # see how much probability in excess of\n",
    "        # 0 the discriminator gives each one to being\n",
    "        # real\n",
    "        noise = to_variable(torch.randn(batch_size, noise_dim))\n",
    "        fake_images = generator(noise)\n",
    "        outputs = discriminator(fake_images)\n",
    "        fake_loss = torch.mean(outputs**2)\n",
    "        \n",
    "        # backpropagate the loss from both\n",
    "        # real and fake images for discriminator\n",
    "        total_loss = real_loss + fake_loss\n",
    "        discriminator.zero_grad()\n",
    "        generator.zero_grad()\n",
    "        total_loss.backward()\n",
    "        d_optimizer.step()\n",
    "        \n",
    "        # --- train generator ---\n",
    "        noise = to_variable(torch.randn(batch_size, noise_dim))\n",
    "        \n",
    "        # get the generator loss by seeing\n",
    "        # how close to being 1.0 (positive label)\n",
    "        # each fake image was throughthe discriminator\n",
    "        fake_images = generator(noise)\n",
    "        outputs = discriminator(fake_images)\n",
    "        gen_loss = torch.mean((outputs-1)**2)\n",
    "        \n",
    "        # backpropagate and update \n",
    "        # generator\n",
    "        \n",
    "        generator.zero_grad()\n",
    "        discriminator.zero_grad()\n",
    "        gen_loss.backward()\n",
    "        g_optimizer.step()   \n",
    "        \n",
    "        if not i % 20:\n",
    "            print('image {}'.format(i))\n",
    "            \n",
    "        if i == 100:\n",
    "            break\n",
    "        \n",
    "    if not epoch % 5:\n",
    "        print('epoch {}'.format(epoch))\n",
    "        print('generator loss: {}, discriminator loss: {}'.format(gen_loss.data[0], total_loss.data[0]))"
   ]
  },
  {
   "cell_type": "code",
   "execution_count": 63,
   "metadata": {},
   "outputs": [],
   "source": [
    "noise = to_variable(torch.randn(batch_size, noise_dim))\n",
    "fake_img = generator(noise)"
   ]
  },
  {
   "cell_type": "code",
   "execution_count": 64,
   "metadata": {},
   "outputs": [],
   "source": [
    "# img = denorm(fake_img)\n",
    "result = transforms.Compose([\n",
    "    transforms.ToPILImage()])(fake_img.data[0])"
   ]
  },
  {
   "cell_type": "code",
   "execution_count": 65,
   "metadata": {},
   "outputs": [],
   "source": [
    "result.show()"
   ]
  },
  {
   "cell_type": "code",
   "execution_count": null,
   "metadata": {},
   "outputs": [],
   "source": []
  }
 ],
 "metadata": {
  "kernelspec": {
   "display_name": "Python 3",
   "language": "python",
   "name": "python3"
  },
  "language_info": {
   "codemirror_mode": {
    "name": "ipython",
    "version": 3
   },
   "file_extension": ".py",
   "mimetype": "text/x-python",
   "name": "python",
   "nbconvert_exporter": "python",
   "pygments_lexer": "ipython3",
   "version": "3.6.3"
  }
 },
 "nbformat": 4,
 "nbformat_minor": 2
}
