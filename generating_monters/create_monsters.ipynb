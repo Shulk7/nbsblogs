{
 "cells": [
  {
   "cell_type": "markdown",
   "metadata": {
    "collapsed": true
   },
   "source": [
    "https://docs.opencv.org/3.3.1/d5/d69/tutorial_py_non_local_means.html\n",
    "\n",
    "https://docs.opencv.org/3.1.0/d4/d13/tutorial_py_filtering.html"
   ]
  },
  {
   "cell_type": "markdown",
   "metadata": {},
   "source": [
    "step 1 generate a blob\n",
    "\n",
    "step 2 evaluate the cohesiveness of the blob. (cycle to step 1 until we find a cohesive enough blob)\n",
    "\n",
    "step 3 clean up colos by getting rid of stuff where it should be white, adding a black outline.\n",
    "\n",
    "step 4 pick a head.\n",
    "\n",
    "step 5 add eyes to the head.\n",
    "\n",
    "step 6 pokemon done"
   ]
  },
  {
   "cell_type": "code",
   "execution_count": 2,
   "metadata": {
    "collapsed": true
   },
   "outputs": [],
   "source": [
    "import cv2\n",
    "import numpy as np\n",
    "import matplotlib.pyplot as plt"
   ]
  },
  {
   "cell_type": "code",
   "execution_count": null,
   "metadata": {
    "collapsed": true
   },
   "outputs": [],
   "source": []
  }
 ],
 "metadata": {
  "kernelspec": {
   "display_name": "Python 3",
   "language": "python",
   "name": "python3"
  },
  "language_info": {
   "codemirror_mode": {
    "name": "ipython",
    "version": 3
   },
   "file_extension": ".py",
   "mimetype": "text/x-python",
   "name": "python",
   "nbconvert_exporter": "python",
   "pygments_lexer": "ipython3",
   "version": "3.6.2"
  }
 },
 "nbformat": 4,
 "nbformat_minor": 2
}
