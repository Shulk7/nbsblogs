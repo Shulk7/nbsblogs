{
 "cells": [
  {
   "cell_type": "code",
   "execution_count": 10,
   "metadata": {},
   "outputs": [],
   "source": [
    "import math\n",
    "import pyglet\n",
    "import numpy as np\n",
    "from pyglet.gl import *\n",
    "\n",
    "win = pyglet.window.Window()\n",
    "\n",
    "# get all the points in a circle centered at 0.\n",
    "def PointsInCircum(r, n=25, pi=3.14):\n",
    "    return [(math.cos(2*pi/n*x)*r,math.sin(2*pi/n*x)*r) for x in range(0,n+1)]\n",
    "pts = np.array(PointsInCircum(20))\n",
    "\n",
    "# function that increments to the next\n",
    "# point along a circle\n",
    "frame = 0\n",
    "def update_frame(x, y):\n",
    "    global frame\n",
    "    if frame == None or frame == pts.shape[0]-1:\n",
    "        frame = 0\n",
    "    else:\n",
    "        frame += 1\n",
    "\n",
    "@win.event\n",
    "def on_draw():\n",
    "    # clear the screen\n",
    "    glClear(GL_COLOR_BUFFER_BIT)\n",
    "    for x in range (20, win.width, 50):\n",
    "        for y in range(20, win.height, 50):\n",
    "            # draw the next line\n",
    "            glBegin(GL_LINES)\n",
    "            glVertex3f(x,y,0)\n",
    "            glVertex3f(pts[26*][1]+x,pts[frame][0]+y,0)\n",
    "            glVertex3f(x,y,0)\n",
    "            glVertex3f(pts[frame][1]+x,pts[frame][0]+y,0)\n",
    "            glEnd()\n",
    "\n",
    "# every 1/10 th get the next frame\n",
    "pyglet.clock.schedule(update_frame, 1/10)\n",
    "pyglet.app.run()"
   ]
  },
  {
   "cell_type": "code",
   "execution_count": 11,
   "metadata": {},
   "outputs": [
    {
     "data": {
      "text/plain": [
       "(26, 2)"
      ]
     },
     "execution_count": 11,
     "metadata": {},
     "output_type": "execute_result"
    }
   ],
   "source": [
    "pts.shape"
   ]
  },
  {
   "cell_type": "code",
   "execution_count": 14,
   "metadata": {},
   "outputs": [
    {
     "data": {
      "text/plain": [
       "26.0"
      ]
     },
     "execution_count": 14,
     "metadata": {},
     "output_type": "execute_result"
    }
   ],
   "source": [
    "26*3/3"
   ]
  },
  {
   "cell_type": "code",
   "execution_count": null,
   "metadata": {},
   "outputs": [],
   "source": [
    "9, 18, 26"
   ]
  }
 ],
 "metadata": {
  "kernelspec": {
   "display_name": "Python 3",
   "language": "python",
   "name": "python3"
  },
  "language_info": {
   "codemirror_mode": {
    "name": "ipython",
    "version": 3
   },
   "file_extension": ".py",
   "mimetype": "text/x-python",
   "name": "python",
   "nbconvert_exporter": "python",
   "pygments_lexer": "ipython3",
   "version": "3.6.4"
  }
 },
 "nbformat": 4,
 "nbformat_minor": 2
}
