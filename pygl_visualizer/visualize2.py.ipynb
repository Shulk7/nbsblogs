{
 "cells": [
  {
   "cell_type": "markdown",
   "metadata": {},
   "source": [
    "# resources\n",
    "\n",
    "http://www.petercollingridge.co.uk/pygame-3d-graphics-tutorial/rotation-3d"
   ]
  },
  {
   "cell_type": "code",
   "execution_count": 1,
   "metadata": {},
   "outputs": [],
   "source": [
    "import bvh\n",
    "import math\n",
    "import pyglet\n",
    "import numpy as np\n",
    "from pyglet.gl import *\n",
    "from transforms3d import axangles"
   ]
  },
  {
   "cell_type": "markdown",
   "metadata": {},
   "source": [
    "Each bvh file has 2 main parts, the skeletal structure part (with information about what joints split off from waht other joints). It also contains at what distance each joint is from its parent joint. Italso has information about what the 'channels' are for those joints. Channels are just values, so for example your channels could be RGB colors (R,G,B, being the channels) or they could be X,Y,Z position, or X,Y,Z rotation. The second part which contains all the frames, which say, 'at frame N, the channels for joint X will be X1,Y1,Z1, and at frame N+1 they will be X2,Y2,Z2, etc."
   ]
  },
  {
   "cell_type": "markdown",
   "metadata": {},
   "source": [
    "First lets try to get a list of all joints in the bvh"
   ]
  },
  {
   "cell_type": "code",
   "execution_count": 2,
   "metadata": {},
   "outputs": [
    {
     "name": "stdout",
     "output_type": "stream",
     "text": [
      "ROOT Hips\n",
      "JOINT LHipJoint\n",
      "JOINT LeftUpLeg\n",
      "JOINT LeftLeg\n",
      "JOINT LeftFoot\n",
      "JOINT LeftToeBase\n",
      "JOINT RHipJoint\n",
      "JOINT RightUpLeg\n",
      "JOINT RightLeg\n",
      "JOINT RightFoot\n",
      "JOINT RightToeBase\n",
      "JOINT LowerBack\n",
      "JOINT Spine\n",
      "JOINT Spine1\n",
      "JOINT Neck\n",
      "JOINT Neck1\n",
      "JOINT Head\n",
      "JOINT LeftShoulder\n",
      "JOINT LeftArm\n",
      "JOINT LeftForeArm\n",
      "JOINT LeftHand\n",
      "JOINT LeftFingerBase\n",
      "JOINT LeftHandIndex1\n",
      "JOINT LThumb\n",
      "JOINT RightShoulder\n",
      "JOINT RightArm\n",
      "JOINT RightForeArm\n",
      "JOINT RightHand\n",
      "JOINT RightFingerBase\n",
      "JOINT RightHandIndex1\n",
      "JOINT RThumb\n"
     ]
    }
   ],
   "source": [
    "with open('/Users/yvanscher/Downloads/02_01.bvh') as f:\n",
    "    test_bvh = bvh.Bvh(f.read())\n",
    "    for x in test_bvh.get_joints():\n",
    "        print(x)"
   ]
  },
  {
   "cell_type": "markdown",
   "metadata": {},
   "source": [
    "Cool these are all the joints in the file. Let's get the points for just hte root hip joint."
   ]
  },
  {
   "cell_type": "code",
   "execution_count": 3,
   "metadata": {},
   "outputs": [],
   "source": [
    "file = '/Users/yvanscher/Downloads/02_01.bvh'\n",
    "\n",
    "def get_joint_channels(file, joint_name):\n",
    "    with open(file) as f:\n",
    "        bvh_r = bvh.Bvh(f.read())\n",
    "        return bvh_r.joint_channels(joint_name)\n",
    "\n",
    "# get the animation for nay joint\n",
    "def get_joint_anim(file, joint_name):\n",
    "    with open(file) as f:\n",
    "        bvh_r = bvh.Bvh(f.read())\n",
    "        channels = bvh_r.joint_channels(joint_name)\n",
    "        return np.array(bvh_r.frames_joint_channels(joint_name, channels))\n",
    "\n",
    "# get all but the hip animation\n",
    "def get_anims(file):\n",
    "    with open(file) as f:\n",
    "        bvh_r = bvh.Bvh(f.read())\n",
    "        joints = [joint for joint in bvh_r.get_joints()]\n",
    "        anim_joints = np.zeros((bvh_r.nframes, len(joints), 3))\n",
    "        for i,joint in enumerate(joints):\n",
    "            if joint.name == 'Hips':\n",
    "                continue\n",
    "            channels = bvh_r.joint_channels(joint.name)\n",
    "            anim = np.array(bvh_r.frames_joint_channels(joint.name, channels))[:,:]\n",
    "            anim_joints[:,i] = anim\n",
    "    return anim_joints\n",
    "\n",
    "def scale_range(a, minv, maxv):\n",
    "    a -= np.min(a)\n",
    "    a /= np.max(a) / (maxv - minv)\n",
    "    a += minv\n",
    "    return a\n",
    "\n",
    "hip_anim = get_joint_anim(file, 'Hips')\n",
    "other_anim = get_anims(file)\n",
    "assert hip_anim.shape == (344, 6)\n",
    "assert other_anim.shape == (344, 31, 3)"
   ]
  },
  {
   "cell_type": "code",
   "execution_count": 4,
   "metadata": {},
   "outputs": [
    {
     "name": "stdout",
     "output_type": "stream",
     "text": [
      "hip channels: ['Xposition', 'Yposition', 'Zposition', 'Zrotation', 'Yrotation', 'Xrotation']\n",
      "hip data: (344, 6)\n",
      "animation data: (344, 31, 3)\n"
     ]
    }
   ],
   "source": [
    "hip_channels = get_joint_channels(file, 'Hips')\n",
    "print(f'hip channels: {hip_channels}')\n",
    "print(f'hip data: {hip_anim.shape}')\n",
    "print(f'animation data: {other_anim.shape}')"
   ]
  },
  {
   "cell_type": "code",
   "execution_count": 5,
   "metadata": {},
   "outputs": [],
   "source": [
    "# win = pyglet.window.Window(500,500,resizable=True)\n",
    "\n",
    "# # do not increase z\n",
    "# hip_anim[:,:2] = scale_range(hip_anim[:,:2], 0, 500)+150\n",
    "# hip_anim[:,2] = scale_range(hip_anim[:,2], -1, 1)\n",
    "\n",
    "# @win.event\n",
    "# def on_draw():\n",
    "#     glBegin(GL_POINTS)\n",
    "#     for i in range(hip_anim.shape[0]):\n",
    "#         x = hip_anim[i][0]\n",
    "#         y = hip_anim[i][1]\n",
    "#         z = hip_anim[i][2]\n",
    "#         glVertex3f(x,y,z)\n",
    "#     glEnd()\n",
    "\n",
    "# pyglet.app.run()"
   ]
  },
  {
   "cell_type": "markdown",
   "metadata": {},
   "source": [
    "# what are the steps? \n",
    "\n",
    "1 - calculate the position of the root point. Hip position.\n",
    "\n",
    "2 - calculate the position for frame 1 of all the other joints based on this. that's why frame 1 is all 0s under MOTION, they joints are all at the default offsets and there's not a lot of rotation going on. The few taht are non zero dont do much set the arms to right angles, etc.\n",
    "\n",
    "3 - build a function that can take a point and rotate it in space. we need this because for each frame our renderer will take the skeleton at its default offsets (the starting frame essentially) and then apply rotations recursively to get a new skeleton with joints positions.\n",
    "\n",
    "4 - add the ability to draw lines for each joint."
   ]
  },
  {
   "cell_type": "markdown",
   "metadata": {},
   "source": [
    "# step 1 get the position of the hip"
   ]
  },
  {
   "cell_type": "code",
   "execution_count": 6,
   "metadata": {},
   "outputs": [
    {
     "data": {
      "text/plain": [
       "(344, 3)"
      ]
     },
     "execution_count": 6,
     "metadata": {},
     "output_type": "execute_result"
    }
   ],
   "source": [
    "#just grabe the first 3 values\n",
    "hip_anim[:,:3].shape"
   ]
  },
  {
   "cell_type": "markdown",
   "metadata": {},
   "source": [
    "# step 2 calculate the position of other joints"
   ]
  },
  {
   "cell_type": "code",
   "execution_count": 7,
   "metadata": {},
   "outputs": [
    {
     "data": {
      "text/plain": [
       "[(ROOT Hips, array([0., 0., 0.])),\n",
       " (JOINT LHipJoint, array([0., 0., 0.])),\n",
       " (JOINT LeftUpLeg, array([ 1.65674, -1.80282,  0.62477])),\n",
       " (JOINT LeftLeg, array([ 4.25394, -8.93858,  0.62477])),\n",
       " (JOINT LeftFoot, array([  5.08956, -13.98346,   0.     ])),\n",
       " (JOINT LeftToeBase, array([ 2.6894 , -7.38906,  2.14581])),\n",
       " (JOINT RHipJoint, array([0., 0., 0.])),\n",
       " (JOINT RightUpLeg, array([-1.6107 , -1.80282,  0.62476])),\n",
       " (JOINT RightLeg, array([-4.20572, -8.93259,  0.62476])),\n",
       " (JOINT RightFoot, array([ -5.06282, -13.91001,   0.     ])),\n",
       " (JOINT RightToeBase, array([-2.69804, -7.41282,  2.13368])),\n",
       " (JOINT LowerBack, array([0., 0., 0.])),\n",
       " (JOINT Spine, array([ 0.01961,  2.0545 , -0.14112])),\n",
       " (JOINT Spine1, array([ 0.02982,  4.11886, -0.20033])),\n",
       " (JOINT Neck, array([ 0.01021,  2.06436, -0.05921])),\n",
       " (JOINT Neck1, array([0.00713, 1.56711, 0.14968])),\n",
       " (JOINT Head, array([0.04142, 3.12752, 0.04962])),\n",
       " (JOINT LeftShoulder, array([ 0.01021,  2.06436, -0.05921])),\n",
       " (JOINT LeftArm, array([ 3.54205,  0.90436, -0.17364])),\n",
       " (JOINT LeftForeArm, array([ 8.40718,  0.90436, -0.17364])),\n",
       " (JOINT LeftHand, array([ 8.22067, -0.     ,  0.     ])),\n",
       " (JOINT LeftFingerBase, array([3.35554, 0.     , 0.     ])),\n",
       " (JOINT LeftHandIndex1, array([0.66117, 0.     , 0.     ])),\n",
       " (JOINT LThumb, array([3.35554, 0.     , 0.     ])),\n",
       " (JOINT RightShoulder, array([ 0.01021,  2.06436, -0.05921])),\n",
       " (JOINT RightArm, array([-3.49802,  0.75994, -0.32616])),\n",
       " (JOINT RightForeArm, array([-8.52451,  0.75994, -0.32616])),\n",
       " (JOINT RightHand, array([-8.3908, -0.    ,  0.    ])),\n",
       " (JOINT RightFingerBase, array([-3.36431,  0.     ,  0.     ])),\n",
       " (JOINT RightHandIndex1, array([-0.73041,  0.     ,  0.     ])),\n",
       " (JOINT RThumb, array([-3.36431,  0.     ,  0.     ]))]"
      ]
     },
     "execution_count": 7,
     "metadata": {},
     "output_type": "execute_result"
    }
   ],
   "source": [
    "# get the joint positions in absolute space\n",
    "# recursively goes through all joints\n",
    "# and finds their initial position, in \n",
    "# absolute spac\n",
    "def build_positions(file):\n",
    "    tree = []\n",
    "    lines = []\n",
    "    def check_children(node, parent, parent_offset):\n",
    "        parent_offset = np.array([float(x) for x in parent_offset])\n",
    "        child_offset = np.array([float(x) for x in node['OFFSET']])\n",
    "        node_offset = parent_offset+child_offset\n",
    "        tree.append((node, node_offset))\n",
    "        if np.sum(node_offset) > 0:\n",
    "            lines.append((parent_offset, node_offset))\n",
    "        for child in node:\n",
    "            if 'JOINT' in child.value:\n",
    "                parent_offset = node['OFFSET']\n",
    "                check_children(child, node, parent_offset)\n",
    "            \n",
    "    with open(file) as f:\n",
    "        bvh_r = bvh.Bvh(f.read())\n",
    "        j = bvh_r.get_joint('Hips')\n",
    "        check_children(j, None, j['OFFSET'])\n",
    "        \n",
    "    return tree, lines\n",
    "        \n",
    "tree, lines = build_positions(file)\n",
    "tree"
   ]
  },
  {
   "cell_type": "markdown",
   "metadata": {},
   "source": [
    "Now let's try to render this."
   ]
  },
  {
   "cell_type": "code",
   "execution_count": 8,
   "metadata": {
    "scrolled": false
   },
   "outputs": [],
   "source": [
    "# lines = np.array([np.array([line[0],line[1]]) for line in lines])\n",
    "# skel = np.array([joint[1] for joint in tree])\n",
    "# win = pyglet.window.Window(500,500,resizable=True)\n",
    "\n",
    "# # do not increase z\n",
    "# skel[:,:2] = scale_range(skel[:,:2], 0, 500)+150\n",
    "# skel[:,2] = scale_range(skel[:,2], -1, 1)\n",
    "\n",
    "# lines[:,:,:2] = scale_range(lines[:,:,:2], 0, 500)+150\n",
    "# lines[:,:,2] = scale_range(lines[:,:,2], -1, 1)\n",
    "\n",
    "# @win.event\n",
    "# def on_draw():\n",
    "#     glBegin(GL_POINTS)\n",
    "#     for i in range(skel.shape[0]):\n",
    "#         x = skel[i][0]\n",
    "#         y = skel[i][1]\n",
    "#         z = skel[i][2]\n",
    "#         glVertex3f(x,y,z)\n",
    "#     glEnd()\n",
    "#     glBegin(GL_LINES)\n",
    "#     for line in lines:\n",
    "#         glVertex3f(*line[0])\n",
    "#         glVertex3f(*line[1])\n",
    "#     glEnd()\n",
    "\n",
    "# pyglet.app.run()"
   ]
  },
  {
   "cell_type": "markdown",
   "metadata": {},
   "source": [
    "It renders something close to a crucifix of dots."
   ]
  },
  {
   "cell_type": "markdown",
   "metadata": {},
   "source": [
    "# step 3 rotate points."
   ]
  },
  {
   "cell_type": "markdown",
   "metadata": {},
   "source": [
    "The 6 values that the root joint has for all 344 frames of this animation are the values in channels. Let's print the position channels single frame of root.\n",
    "\n",
    "See: https://www.siggraph.org/education/materials/HyperGraph/modeling/mod_tran/3drota.htm#Z\n",
    "```\n",
    "# rotation around z aka Zrotation\n",
    "x' = x*cos q - y*sin q\n",
    "y' = x*sin q + y*cos q \n",
    "z' = z\n",
    "\n",
    "# rotation around y\n",
    "z' = z*cos q - x*sin q\n",
    "x' = z*sin q + x*cos q\n",
    "y' = y\n",
    "\n",
    "# rotation around x\n",
    "y' = y*cos q - z*sin q\n",
    "z' = y*sin q + z*cos q\n",
    "x' = x\n",
    "```"
   ]
  },
  {
   "cell_type": "code",
   "execution_count": 9,
   "metadata": {},
   "outputs": [],
   "source": [
    "def rotate_point(point, angles):\n",
    "    '''\n",
    "    we could use rotation matrices but well stick to simple if statemeents\n",
    "    as they basically do the same thing here (and we just avoid the matrix math)\n",
    "    args\n",
    "        point is a 3D np array with the x,y,z coordinates of the point\n",
    "        angles are the euler angles in degrees of which rotations to perform. zrot, yrot, xrot\n",
    "    returns\n",
    "        a new position for this point as a np array\n",
    "    '''\n",
    "    x,y,z = point\n",
    "    # rotate x,y,z position around all axes of rotation\n",
    "    for i,rot in enumerate(angles):\n",
    "        #rotate about z\n",
    "        sin_rot = math.sin(rot)\n",
    "        cos_rot = math.cos(rot)\n",
    "        if i == 0:\n",
    "            x = x*cos_rot - y*sin_rot\n",
    "            y = x*sin_rot + y*cos_rot\n",
    "        # rotate about y\n",
    "        elif i == 1:\n",
    "            x = z*sin_rot + x*cos_rot\n",
    "            z = z*cos_rot - x*sin_rot\n",
    "        # rotate about x\n",
    "        elif i == 2:\n",
    "            y = y*cos_rot - z*sin_rot\n",
    "            z = y*sin_rot + z*cos_rot\n",
    "    return [x,y,z]\n",
    "\n",
    "assert rotate_point([10.4194, 16.7048, -30.1003], [0, 0, 0]) == [10.4194, 16.7048, -30.1003]\n",
    "# probably need some extra assertions here!"
   ]
  },
  {
   "cell_type": "code",
   "execution_count": 10,
   "metadata": {},
   "outputs": [],
   "source": [
    "hip_anim = get_joint_anim(file, 'Hips')\n",
    "other_anim = get_anims(file)\n",
    "positions, lines = build_positions(file)"
   ]
  },
  {
   "cell_type": "code",
   "execution_count": 11,
   "metadata": {},
   "outputs": [
    {
     "data": {
      "text/plain": [
       "((344, 6), (344, 31, 3))"
      ]
     },
     "execution_count": 11,
     "metadata": {},
     "output_type": "execute_result"
    }
   ],
   "source": [
    "hip_anim.shape, other_anim.shape"
   ]
  },
  {
   "cell_type": "code",
   "execution_count": 12,
   "metadata": {},
   "outputs": [
    {
     "data": {
      "text/plain": [
       "[(ROOT Hips, array([0., 0., 0.])),\n",
       " (JOINT LHipJoint, array([0., 0., 0.])),\n",
       " (JOINT LeftUpLeg, array([ 1.65674, -1.80282,  0.62477])),\n",
       " (JOINT LeftLeg, array([ 4.25394, -8.93858,  0.62477])),\n",
       " (JOINT LeftFoot, array([  5.08956, -13.98346,   0.     ])),\n",
       " (JOINT LeftToeBase, array([ 2.6894 , -7.38906,  2.14581])),\n",
       " (JOINT RHipJoint, array([0., 0., 0.])),\n",
       " (JOINT RightUpLeg, array([-1.6107 , -1.80282,  0.62476])),\n",
       " (JOINT RightLeg, array([-4.20572, -8.93259,  0.62476])),\n",
       " (JOINT RightFoot, array([ -5.06282, -13.91001,   0.     ])),\n",
       " (JOINT RightToeBase, array([-2.69804, -7.41282,  2.13368])),\n",
       " (JOINT LowerBack, array([0., 0., 0.])),\n",
       " (JOINT Spine, array([ 0.01961,  2.0545 , -0.14112])),\n",
       " (JOINT Spine1, array([ 0.02982,  4.11886, -0.20033])),\n",
       " (JOINT Neck, array([ 0.01021,  2.06436, -0.05921])),\n",
       " (JOINT Neck1, array([0.00713, 1.56711, 0.14968])),\n",
       " (JOINT Head, array([0.04142, 3.12752, 0.04962])),\n",
       " (JOINT LeftShoulder, array([ 0.01021,  2.06436, -0.05921])),\n",
       " (JOINT LeftArm, array([ 3.54205,  0.90436, -0.17364])),\n",
       " (JOINT LeftForeArm, array([ 8.40718,  0.90436, -0.17364])),\n",
       " (JOINT LeftHand, array([ 8.22067, -0.     ,  0.     ])),\n",
       " (JOINT LeftFingerBase, array([3.35554, 0.     , 0.     ])),\n",
       " (JOINT LeftHandIndex1, array([0.66117, 0.     , 0.     ])),\n",
       " (JOINT LThumb, array([3.35554, 0.     , 0.     ])),\n",
       " (JOINT RightShoulder, array([ 0.01021,  2.06436, -0.05921])),\n",
       " (JOINT RightArm, array([-3.49802,  0.75994, -0.32616])),\n",
       " (JOINT RightForeArm, array([-8.52451,  0.75994, -0.32616])),\n",
       " (JOINT RightHand, array([-8.3908, -0.    ,  0.    ])),\n",
       " (JOINT RightFingerBase, array([-3.36431,  0.     ,  0.     ])),\n",
       " (JOINT RightHandIndex1, array([-0.73041,  0.     ,  0.     ])),\n",
       " (JOINT RThumb, array([-3.36431,  0.     ,  0.     ]))]"
      ]
     },
     "execution_count": 12,
     "metadata": {},
     "output_type": "execute_result"
    }
   ],
   "source": [
    "positions"
   ]
  },
  {
   "cell_type": "code",
   "execution_count": 13,
   "metadata": {},
   "outputs": [],
   "source": [
    "anim_positions = []\n",
    "for hip_frame, other_frame in zip(hip_anim, other_anim):\n",
    "    # apply rotation to each point \n",
    "    new_positions = []\n",
    "    # get the relative position and add the position of the hip\n",
    "    # this is the base position for the frame that we then rotate\n",
    "    # to get the actual positions\n",
    "    hip_pos = hip_frame[:3]\n",
    "    for i, (joint, rel_position) in enumerate(positions[1:]):\n",
    "        new_positions.append(rotate_point(hip_pos+rel_position, other_frame[i]))\n",
    "    hip_position = np.array(rotate_point(hip_pos, hip_frame[3:]))\n",
    "    new_positions = np.array(new_positions)\n",
    "    anim_positions.append(np.vstack([hip_position,new_positions]))\n",
    "    "
   ]
  },
  {
   "cell_type": "code",
   "execution_count": 14,
   "metadata": {},
   "outputs": [
    {
     "data": {
      "text/plain": [
       "(344, 31, 3)"
      ]
     },
     "execution_count": 14,
     "metadata": {},
     "output_type": "execute_result"
    }
   ],
   "source": [
    "anim_positions = np.array(anim_positions)\n",
    "np.array(anim_positions).shape"
   ]
  },
  {
   "cell_type": "code",
   "execution_count": 15,
   "metadata": {},
   "outputs": [
    {
     "name": "stdout",
     "output_type": "stream",
     "text": [
      "(344, 31, 3)\n",
      "-4.1524994036427785 30.124849063309757 -41.61893723859053\n",
      "10.4194 16.7048 -30.1003\n",
      "12.076139999999999 14.901979999999998 -29.47553\n",
      "-24.204145209463633 37.89544431808789 -17.435680702422346\n",
      "-28.13160644274183 -11.614600125796589 -19.06244605304375\n",
      "-27.914857115183523 -20.00145441848806 -42.90307099137034\n",
      "-14.853097651335217 -23.557618124359486 -37.22926815866524\n",
      "8.8087 14.901979999999998 -29.475540000000002\n",
      "-14.92704232725745 12.607995438393935 -34.83324312356555\n",
      "-25.413272977987603 38.811528338421134 -44.035184651490795\n",
      "12.145120886481376 -22.730748265560894 34.53842464181751\n",
      "30.99185889936986 13.007504001917763 -27.240915694865045\n",
      "-30.258546188172406 -30.54101267531266 -30.89416232176546\n",
      "1.1533328204799318 30.063567669781893 -32.986858705984986\n",
      "-26.288298694915568 -5.667070221922074 18.02472905358408\n",
      "30.169563061952257 -2.792538014361692 41.781207090681825\n",
      "28.732482165913645 4.827384298402444 5.089108145442052\n",
      "-28.44000726061631 12.448330551402004 -38.229815782586726\n",
      "13.96145 17.60916 -30.27394\n",
      "4.974895739648629 21.598810718751373 19.711192474034053\n",
      "-27.207791147108257 18.712631990673092 -19.734290865820686\n",
      "13.774939999999999 14.725914626559504 -30.988522441773693\n",
      "-33.77623460276055 -6.862972070052534 -43.02088023040049\n",
      "21.634958613096146 -5.009260173295669 -30.1003\n",
      "-10.227079961473477 26.1950643800903 -6.0939468568355615\n",
      "6.921379999999999 17.46474 -30.426460000000002\n",
      "-30.549621984231756 -22.072419929129552 -31.593046005191695\n",
      "-20.41000012352613 16.66682512634339 5.742754225249802\n",
      "7.05509 18.43704679343274 30.5925802518555\n",
      "17.976798493366886 36.479700940690456 -47.60355716809155\n",
      "-7.759858392767041 5.339526799618567 -30.1003\n"
     ]
    },
    {
     "ename": "IndexError",
     "evalue": "index 31 is out of bounds for axis 0 with size 31",
     "output_type": "error",
     "traceback": [
      "\u001b[0;31m---------------------------------------------------------------------------\u001b[0m",
      "\u001b[0;31mIndexError\u001b[0m                                Traceback (most recent call last)",
      "\u001b[0;32m<ipython-input-15-c4938f849e53>\u001b[0m in \u001b[0;36m<module>\u001b[0;34m()\u001b[0m\n\u001b[1;32m     32\u001b[0m     \u001b[0mpyglet\u001b[0m\u001b[0;34m.\u001b[0m\u001b[0mapp\u001b[0m\u001b[0;34m.\u001b[0m\u001b[0mrun\u001b[0m\u001b[0;34m(\u001b[0m\u001b[0;34m)\u001b[0m\u001b[0;34m\u001b[0m\u001b[0m\n\u001b[1;32m     33\u001b[0m \u001b[0;34m\u001b[0m\u001b[0m\n\u001b[0;32m---> 34\u001b[0;31m \u001b[0manimate_frames\u001b[0m\u001b[0;34m(\u001b[0m\u001b[0mnp\u001b[0m\u001b[0;34m.\u001b[0m\u001b[0marray\u001b[0m\u001b[0;34m(\u001b[0m\u001b[0manim_positions\u001b[0m\u001b[0;34m)\u001b[0m\u001b[0;34m)\u001b[0m\u001b[0;34m\u001b[0m\u001b[0m\n\u001b[0m",
      "\u001b[0;32m<ipython-input-15-c4938f849e53>\u001b[0m in \u001b[0;36manimate_frames\u001b[0;34m(data)\u001b[0m\n\u001b[1;32m     30\u001b[0m     \u001b[0;31m# every 1/10 th get the next frame\u001b[0m\u001b[0;34m\u001b[0m\u001b[0;34m\u001b[0m\u001b[0m\n\u001b[1;32m     31\u001b[0m     \u001b[0mpyglet\u001b[0m\u001b[0;34m.\u001b[0m\u001b[0mclock\u001b[0m\u001b[0;34m.\u001b[0m\u001b[0mschedule\u001b[0m\u001b[0;34m(\u001b[0m\u001b[0mupdate_frame\u001b[0m\u001b[0;34m,\u001b[0m \u001b[0;36m1\u001b[0m\u001b[0;34m/\u001b[0m\u001b[0;36m10.0\u001b[0m\u001b[0;34m)\u001b[0m\u001b[0;34m\u001b[0m\u001b[0m\n\u001b[0;32m---> 32\u001b[0;31m     \u001b[0mpyglet\u001b[0m\u001b[0;34m.\u001b[0m\u001b[0mapp\u001b[0m\u001b[0;34m.\u001b[0m\u001b[0mrun\u001b[0m\u001b[0;34m(\u001b[0m\u001b[0;34m)\u001b[0m\u001b[0;34m\u001b[0m\u001b[0m\n\u001b[0m\u001b[1;32m     33\u001b[0m \u001b[0;34m\u001b[0m\u001b[0m\n\u001b[1;32m     34\u001b[0m \u001b[0manimate_frames\u001b[0m\u001b[0;34m(\u001b[0m\u001b[0mnp\u001b[0m\u001b[0;34m.\u001b[0m\u001b[0marray\u001b[0m\u001b[0;34m(\u001b[0m\u001b[0manim_positions\u001b[0m\u001b[0;34m)\u001b[0m\u001b[0;34m)\u001b[0m\u001b[0;34m\u001b[0m\u001b[0m\n",
      "\u001b[0;32m~/anaconda/envs/pygl_visualizer/lib/python3.6/site-packages/pyglet/app/__init__.py\u001b[0m in \u001b[0;36mrun\u001b[0;34m()\u001b[0m\n\u001b[1;32m    136\u001b[0m \u001b[0;34m\u001b[0m\u001b[0m\n\u001b[1;32m    137\u001b[0m     '''\n\u001b[0;32m--> 138\u001b[0;31m     \u001b[0mevent_loop\u001b[0m\u001b[0;34m.\u001b[0m\u001b[0mrun\u001b[0m\u001b[0;34m(\u001b[0m\u001b[0;34m)\u001b[0m\u001b[0;34m\u001b[0m\u001b[0m\n\u001b[0m\u001b[1;32m    139\u001b[0m \u001b[0;34m\u001b[0m\u001b[0m\n\u001b[1;32m    140\u001b[0m \u001b[0;32mdef\u001b[0m \u001b[0mexit\u001b[0m\u001b[0;34m(\u001b[0m\u001b[0;34m)\u001b[0m\u001b[0;34m:\u001b[0m\u001b[0;34m\u001b[0m\u001b[0m\n",
      "\u001b[0;32m~/anaconda/envs/pygl_visualizer/lib/python3.6/site-packages/pyglet/app/base.py\u001b[0m in \u001b[0;36mrun\u001b[0;34m(self)\u001b[0m\n\u001b[1;32m    140\u001b[0m             \u001b[0mself\u001b[0m\u001b[0;34m.\u001b[0m\u001b[0m_run_estimated\u001b[0m\u001b[0;34m(\u001b[0m\u001b[0;34m)\u001b[0m\u001b[0;34m\u001b[0m\u001b[0m\n\u001b[1;32m    141\u001b[0m         \u001b[0;32melse\u001b[0m\u001b[0;34m:\u001b[0m\u001b[0;34m\u001b[0m\u001b[0m\n\u001b[0;32m--> 142\u001b[0;31m             \u001b[0mself\u001b[0m\u001b[0;34m.\u001b[0m\u001b[0m_run\u001b[0m\u001b[0;34m(\u001b[0m\u001b[0;34m)\u001b[0m\u001b[0;34m\u001b[0m\u001b[0m\n\u001b[0m\u001b[1;32m    143\u001b[0m         \u001b[0mself\u001b[0m\u001b[0;34m.\u001b[0m\u001b[0mis_running\u001b[0m \u001b[0;34m=\u001b[0m \u001b[0;32mFalse\u001b[0m\u001b[0;34m\u001b[0m\u001b[0m\n\u001b[1;32m    144\u001b[0m \u001b[0;34m\u001b[0m\u001b[0m\n",
      "\u001b[0;32m~/anaconda/envs/pygl_visualizer/lib/python3.6/site-packages/pyglet/app/base.py\u001b[0m in \u001b[0;36m_run\u001b[0;34m(self)\u001b[0m\n\u001b[1;32m    152\u001b[0m         \u001b[0mplatform_event_loop\u001b[0m \u001b[0;34m=\u001b[0m \u001b[0mapp\u001b[0m\u001b[0;34m.\u001b[0m\u001b[0mplatform_event_loop\u001b[0m\u001b[0;34m\u001b[0m\u001b[0m\n\u001b[1;32m    153\u001b[0m         \u001b[0;32mwhile\u001b[0m \u001b[0;32mnot\u001b[0m \u001b[0mself\u001b[0m\u001b[0;34m.\u001b[0m\u001b[0mhas_exit\u001b[0m\u001b[0;34m:\u001b[0m\u001b[0;34m\u001b[0m\u001b[0m\n\u001b[0;32m--> 154\u001b[0;31m             \u001b[0mtimeout\u001b[0m \u001b[0;34m=\u001b[0m \u001b[0mself\u001b[0m\u001b[0;34m.\u001b[0m\u001b[0midle\u001b[0m\u001b[0;34m(\u001b[0m\u001b[0;34m)\u001b[0m\u001b[0;34m\u001b[0m\u001b[0m\n\u001b[0m\u001b[1;32m    155\u001b[0m             \u001b[0mplatform_event_loop\u001b[0m\u001b[0;34m.\u001b[0m\u001b[0mstep\u001b[0m\u001b[0;34m(\u001b[0m\u001b[0mtimeout\u001b[0m\u001b[0;34m)\u001b[0m\u001b[0;34m\u001b[0m\u001b[0m\n\u001b[1;32m    156\u001b[0m \u001b[0;34m\u001b[0m\u001b[0m\n",
      "\u001b[0;32m~/anaconda/envs/pygl_visualizer/lib/python3.6/site-packages/pyglet/app/base.py\u001b[0m in \u001b[0;36midle\u001b[0;34m(self)\u001b[0m\n\u001b[1;32m    279\u001b[0m             \u001b[0;32mif\u001b[0m \u001b[0mredraw_all\u001b[0m \u001b[0;32mor\u001b[0m \u001b[0;34m(\u001b[0m\u001b[0mwindow\u001b[0m\u001b[0;34m.\u001b[0m\u001b[0m_legacy_invalid\u001b[0m \u001b[0;32mand\u001b[0m \u001b[0mwindow\u001b[0m\u001b[0;34m.\u001b[0m\u001b[0minvalid\u001b[0m\u001b[0;34m)\u001b[0m\u001b[0;34m:\u001b[0m\u001b[0;34m\u001b[0m\u001b[0m\n\u001b[1;32m    280\u001b[0m                 \u001b[0mwindow\u001b[0m\u001b[0;34m.\u001b[0m\u001b[0mswitch_to\u001b[0m\u001b[0;34m(\u001b[0m\u001b[0;34m)\u001b[0m\u001b[0;34m\u001b[0m\u001b[0m\n\u001b[0;32m--> 281\u001b[0;31m                 \u001b[0mwindow\u001b[0m\u001b[0;34m.\u001b[0m\u001b[0mdispatch_event\u001b[0m\u001b[0;34m(\u001b[0m\u001b[0;34m'on_draw'\u001b[0m\u001b[0;34m)\u001b[0m\u001b[0;34m\u001b[0m\u001b[0m\n\u001b[0m\u001b[1;32m    282\u001b[0m                 \u001b[0mwindow\u001b[0m\u001b[0;34m.\u001b[0m\u001b[0mflip\u001b[0m\u001b[0;34m(\u001b[0m\u001b[0;34m)\u001b[0m\u001b[0;34m\u001b[0m\u001b[0m\n\u001b[1;32m    283\u001b[0m                 \u001b[0mwindow\u001b[0m\u001b[0;34m.\u001b[0m\u001b[0m_legacy_invalid\u001b[0m \u001b[0;34m=\u001b[0m \u001b[0;32mFalse\u001b[0m\u001b[0;34m\u001b[0m\u001b[0m\n",
      "\u001b[0;32m~/anaconda/envs/pygl_visualizer/lib/python3.6/site-packages/pyglet/window/__init__.py\u001b[0m in \u001b[0;36mdispatch_event\u001b[0;34m(self, *args)\u001b[0m\n\u001b[1;32m   1218\u001b[0m     \u001b[0;32mdef\u001b[0m \u001b[0mdispatch_event\u001b[0m\u001b[0;34m(\u001b[0m\u001b[0mself\u001b[0m\u001b[0;34m,\u001b[0m \u001b[0;34m*\u001b[0m\u001b[0margs\u001b[0m\u001b[0;34m)\u001b[0m\u001b[0;34m:\u001b[0m\u001b[0;34m\u001b[0m\u001b[0m\n\u001b[1;32m   1219\u001b[0m         \u001b[0;32mif\u001b[0m \u001b[0;32mnot\u001b[0m \u001b[0mself\u001b[0m\u001b[0;34m.\u001b[0m\u001b[0m_enable_event_queue\u001b[0m \u001b[0;32mor\u001b[0m \u001b[0mself\u001b[0m\u001b[0;34m.\u001b[0m\u001b[0m_allow_dispatch_event\u001b[0m\u001b[0;34m:\u001b[0m\u001b[0;34m\u001b[0m\u001b[0m\n\u001b[0;32m-> 1220\u001b[0;31m             \u001b[0;32mif\u001b[0m \u001b[0mEventDispatcher\u001b[0m\u001b[0;34m.\u001b[0m\u001b[0mdispatch_event\u001b[0m\u001b[0;34m(\u001b[0m\u001b[0mself\u001b[0m\u001b[0;34m,\u001b[0m \u001b[0;34m*\u001b[0m\u001b[0margs\u001b[0m\u001b[0;34m)\u001b[0m \u001b[0;34m!=\u001b[0m \u001b[0;32mFalse\u001b[0m\u001b[0;34m:\u001b[0m\u001b[0;34m\u001b[0m\u001b[0m\n\u001b[0m\u001b[1;32m   1221\u001b[0m                 \u001b[0mself\u001b[0m\u001b[0;34m.\u001b[0m\u001b[0m_legacy_invalid\u001b[0m \u001b[0;34m=\u001b[0m \u001b[0;32mTrue\u001b[0m\u001b[0;34m\u001b[0m\u001b[0m\n\u001b[1;32m   1222\u001b[0m         \u001b[0;32melse\u001b[0m\u001b[0;34m:\u001b[0m\u001b[0;34m\u001b[0m\u001b[0m\n",
      "\u001b[0;32m~/anaconda/envs/pygl_visualizer/lib/python3.6/site-packages/pyglet/event.py\u001b[0m in \u001b[0;36mdispatch_event\u001b[0;34m(self, event_type, *args)\u001b[0m\n\u001b[1;32m    355\u001b[0m                 \u001b[0;32mtry\u001b[0m\u001b[0;34m:\u001b[0m\u001b[0;34m\u001b[0m\u001b[0m\n\u001b[1;32m    356\u001b[0m                     \u001b[0minvoked\u001b[0m \u001b[0;34m=\u001b[0m \u001b[0;32mTrue\u001b[0m\u001b[0;34m\u001b[0m\u001b[0m\n\u001b[0;32m--> 357\u001b[0;31m                     \u001b[0;32mif\u001b[0m \u001b[0mhandler\u001b[0m\u001b[0;34m(\u001b[0m\u001b[0;34m*\u001b[0m\u001b[0margs\u001b[0m\u001b[0;34m)\u001b[0m\u001b[0;34m:\u001b[0m\u001b[0;34m\u001b[0m\u001b[0m\n\u001b[0m\u001b[1;32m    358\u001b[0m                         \u001b[0;32mreturn\u001b[0m \u001b[0mEVENT_HANDLED\u001b[0m\u001b[0;34m\u001b[0m\u001b[0m\n\u001b[1;32m    359\u001b[0m                 \u001b[0;32mexcept\u001b[0m \u001b[0mTypeError\u001b[0m\u001b[0;34m:\u001b[0m\u001b[0;34m\u001b[0m\u001b[0m\n",
      "\u001b[0;32m<ipython-input-15-c4938f849e53>\u001b[0m in \u001b[0;36mon_draw\u001b[0;34m()\u001b[0m\n\u001b[1;32m     22\u001b[0m         \u001b[0mglBegin\u001b[0m\u001b[0;34m(\u001b[0m\u001b[0mGL_POINTS\u001b[0m\u001b[0;34m)\u001b[0m\u001b[0;34m\u001b[0m\u001b[0m\n\u001b[1;32m     23\u001b[0m         \u001b[0;32mfor\u001b[0m \u001b[0mi\u001b[0m \u001b[0;32min\u001b[0m \u001b[0mrange\u001b[0m\u001b[0;34m(\u001b[0m\u001b[0mdata\u001b[0m\u001b[0;34m.\u001b[0m\u001b[0mshape\u001b[0m\u001b[0;34m[\u001b[0m\u001b[0;36m0\u001b[0m\u001b[0;34m]\u001b[0m\u001b[0;34m)\u001b[0m\u001b[0;34m:\u001b[0m\u001b[0;34m\u001b[0m\u001b[0m\n\u001b[0;32m---> 24\u001b[0;31m             \u001b[0mx\u001b[0m \u001b[0;34m=\u001b[0m \u001b[0mdata\u001b[0m\u001b[0;34m[\u001b[0m\u001b[0mframe\u001b[0m\u001b[0;34m]\u001b[0m\u001b[0;34m[\u001b[0m\u001b[0mi\u001b[0m\u001b[0;34m]\u001b[0m\u001b[0;34m[\u001b[0m\u001b[0;36m0\u001b[0m\u001b[0;34m]\u001b[0m\u001b[0;34m\u001b[0m\u001b[0m\n\u001b[0m\u001b[1;32m     25\u001b[0m             \u001b[0my\u001b[0m \u001b[0;34m=\u001b[0m \u001b[0mdata\u001b[0m\u001b[0;34m[\u001b[0m\u001b[0mframe\u001b[0m\u001b[0;34m]\u001b[0m\u001b[0;34m[\u001b[0m\u001b[0mi\u001b[0m\u001b[0;34m]\u001b[0m\u001b[0;34m[\u001b[0m\u001b[0;36m1\u001b[0m\u001b[0;34m]\u001b[0m\u001b[0;34m\u001b[0m\u001b[0m\n\u001b[1;32m     26\u001b[0m             \u001b[0mz\u001b[0m \u001b[0;34m=\u001b[0m \u001b[0mdata\u001b[0m\u001b[0;34m[\u001b[0m\u001b[0mframe\u001b[0m\u001b[0;34m]\u001b[0m\u001b[0;34m[\u001b[0m\u001b[0mi\u001b[0m\u001b[0;34m]\u001b[0m\u001b[0;34m[\u001b[0m\u001b[0;36m2\u001b[0m\u001b[0;34m]\u001b[0m\u001b[0;34m\u001b[0m\u001b[0m\n",
      "\u001b[0;31mIndexError\u001b[0m: index 31 is out of bounds for axis 0 with size 31"
     ]
    }
   ],
   "source": [
    "frame = 0\n",
    "def update_frame(a,b):\n",
    "    global frame\n",
    "    if frame == None or frame == anim_positions.shape[0]-1:\n",
    "        frame = 0\n",
    "    else:\n",
    "        frame += 1\n",
    "\n",
    "def animate_frames(data):\n",
    "\n",
    "    win = pyglet.window.Window(500,500,resizable=True)\n",
    "\n",
    "    # do not increase z\n",
    "#     data[:,:2] = scale_range(data[:,:2], 0, 500)+150\n",
    "#     data[:,2] = scale_range(data[:,2], -1, 1)\n",
    "\n",
    "    print(data.shape)\n",
    "    \n",
    "    @win.event\n",
    "    def on_draw():\n",
    "        glClear(GL_COLOR_BUFFER_BIT)\n",
    "        glBegin(GL_POINTS)\n",
    "        for i in range(data.shape[0]):\n",
    "            print(i,frame)\n",
    "            x = data[frame][i][0]\n",
    "            y = data[frame][i][1]\n",
    "            z = data[frame][i][2]\n",
    "            print(x,y,z)\n",
    "            glVertex3f(x,y,z)\n",
    "        glEnd()\n",
    "    # every 1/10 th get the next frame\n",
    "    pyglet.clock.schedule(update_frame, 1/10.0)\n",
    "    pyglet.app.run()\n",
    "    \n",
    "animate_frames(np.array(anim_positions))"
   ]
  },
  {
   "cell_type": "code",
   "execution_count": null,
   "metadata": {},
   "outputs": [],
   "source": []
  }
 ],
 "metadata": {
  "kernelspec": {
   "display_name": "Python 3",
   "language": "python",
   "name": "python3"
  },
  "language_info": {
   "codemirror_mode": {
    "name": "ipython",
    "version": 3
   },
   "file_extension": ".py",
   "mimetype": "text/x-python",
   "name": "python",
   "nbconvert_exporter": "python",
   "pygments_lexer": "ipython3",
   "version": "3.6.4"
  }
 },
 "nbformat": 4,
 "nbformat_minor": 2
}
