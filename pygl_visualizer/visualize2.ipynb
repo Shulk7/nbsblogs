{
 "cells": [
  {
   "cell_type": "markdown",
   "metadata": {},
   "source": [
    "# resources\n",
    "\n",
    "http://www.petercollingridge.co.uk/pygame-3d-graphics-tutorial/rotation-3d\n",
    "\n",
    "https://www.siggraph.org/education/materials/HyperGraph/modeling/mod_tran/3drota.htm#Z"
   ]
  },
  {
   "cell_type": "code",
   "execution_count": 1,
   "metadata": {},
   "outputs": [],
   "source": [
    "import bvh\n",
    "import math\n",
    "import pyglet\n",
    "import numpy as np\n",
    "from pyglet.gl import *\n",
    "from transforms3d import axangles"
   ]
  },
  {
   "cell_type": "markdown",
   "metadata": {},
   "source": [
    "Each bvh file has 2 main parts, the skeletal structure part (with information about what joints split off from waht other joints). It also contains at what distance each joint is from its parent joint. Italso has information about what the 'channels' are for those joints. Channels are just values, so for example your channels could be RGB colors (R,G,B, being the channels) or they could be X,Y,Z position, or X,Y,Z rotation. The second part which contains all the frames, which say, 'at frame N, the channels for joint X will be X1,Y1,Z1, and at frame N+1 they will be X2,Y2,Z2, etc."
   ]
  },
  {
   "cell_type": "markdown",
   "metadata": {},
   "source": [
    "First lets try to get a list of all joints in the bvh"
   ]
  },
  {
   "cell_type": "code",
   "execution_count": 2,
   "metadata": {},
   "outputs": [
    {
     "name": "stdout",
     "output_type": "stream",
     "text": [
      "ROOT Hips\n",
      "JOINT LHipJoint\n",
      "JOINT LeftUpLeg\n",
      "JOINT LeftLeg\n",
      "JOINT LeftFoot\n",
      "JOINT LeftToeBase\n",
      "JOINT RHipJoint\n",
      "JOINT RightUpLeg\n",
      "JOINT RightLeg\n",
      "JOINT RightFoot\n",
      "JOINT RightToeBase\n",
      "JOINT LowerBack\n",
      "JOINT Spine\n",
      "JOINT Spine1\n",
      "JOINT Neck\n",
      "JOINT Neck1\n",
      "JOINT Head\n",
      "JOINT LeftShoulder\n",
      "JOINT LeftArm\n",
      "JOINT LeftForeArm\n",
      "JOINT LeftHand\n",
      "JOINT LeftFingerBase\n",
      "JOINT LeftHandIndex1\n",
      "JOINT LThumb\n",
      "JOINT RightShoulder\n",
      "JOINT RightArm\n",
      "JOINT RightForeArm\n",
      "JOINT RightHand\n",
      "JOINT RightFingerBase\n",
      "JOINT RightHandIndex1\n",
      "JOINT RThumb\n"
     ]
    }
   ],
   "source": [
    "with open('/Users/yvanscher/Downloads/02_01.bvh') as f:\n",
    "    test_bvh = bvh.Bvh(f.read())\n",
    "    for x in test_bvh.get_joints():\n",
    "        print(x)"
   ]
  },
  {
   "cell_type": "markdown",
   "metadata": {},
   "source": [
    "Cool these are all the joints in the file. Let's get the points for just hte root hip joint."
   ]
  },
  {
   "cell_type": "code",
   "execution_count": 3,
   "metadata": {},
   "outputs": [],
   "source": [
    "file = '/Users/yvanscher/Downloads/02_01.bvh'\n",
    "\n",
    "def get_joint_channels(file, joint_name):\n",
    "    with open(file) as f:\n",
    "        bvh_r = bvh.Bvh(f.read())\n",
    "        return bvh_r.joint_channels(joint_name)\n",
    "\n",
    "# get the animation for nay joint\n",
    "def get_joint_anim(file, joint_name):\n",
    "    with open(file) as f:\n",
    "        bvh_r = bvh.Bvh(f.read())\n",
    "        channels = bvh_r.joint_channels(joint_name)\n",
    "        return np.array(bvh_r.frames_joint_channels(joint_name, channels))\n",
    "\n",
    "# get all but the hip animation\n",
    "def get_anims(file):\n",
    "    with open(file) as f:\n",
    "        bvh_r = bvh.Bvh(f.read())\n",
    "        joints = [joint for joint in bvh_r.get_joints()]\n",
    "        anim_joints = np.zeros((bvh_r.nframes, len(joints), 3))\n",
    "        for i,joint in enumerate(joints):\n",
    "            if joint.name == 'Hips':\n",
    "                continue\n",
    "            channels = bvh_r.joint_channels(joint.name)\n",
    "            anim = np.array(bvh_r.frames_joint_channels(joint.name, channels))[:,:]\n",
    "            anim_joints[:,i] = anim\n",
    "    return anim_joints\n",
    "\n",
    "def scale_range(a, minv, maxv):\n",
    "    a -= np.min(a)\n",
    "    a /= np.max(a) / (maxv - minv)\n",
    "    a += minv\n",
    "    return a\n",
    "\n",
    "hip_anim = get_joint_anim(file, 'Hips')\n",
    "other_anim = get_anims(file)\n",
    "assert hip_anim.shape == (344, 6)\n",
    "assert other_anim.shape == (344, 31, 3)"
   ]
  },
  {
   "cell_type": "code",
   "execution_count": 4,
   "metadata": {},
   "outputs": [
    {
     "name": "stdout",
     "output_type": "stream",
     "text": [
      "hip channels: ['Xposition', 'Yposition', 'Zposition', 'Zrotation', 'Yrotation', 'Xrotation']\n",
      "hip data: (344, 6)\n",
      "animation data: (344, 31, 3)\n"
     ]
    }
   ],
   "source": [
    "hip_channels = get_joint_channels(file, 'Hips')\n",
    "print(f'hip channels: {hip_channels}')\n",
    "print(f'hip data: {hip_anim.shape}')\n",
    "print(f'animation data: {other_anim.shape}')"
   ]
  },
  {
   "cell_type": "code",
   "execution_count": 5,
   "metadata": {},
   "outputs": [],
   "source": [
    "# win = pyglet.window.Window(500,500,resizable=True)\n",
    "\n",
    "# # do not increase z\n",
    "# hip_anim[:,:2] = scale_range(hip_anim[:,:2], 0, 500)+150\n",
    "# hip_anim[:,2] = scale_range(hip_anim[:,2], -1, 1)\n",
    "\n",
    "# @win.event\n",
    "# def on_draw():\n",
    "#     glBegin(GL_POINTS)\n",
    "#     for i in range(hip_anim.shape[0]):\n",
    "#         x = hip_anim[i][0]\n",
    "#         y = hip_anim[i][1]\n",
    "#         z = hip_anim[i][2]\n",
    "#         glVertex3f(x,y,z)\n",
    "#     glEnd()\n",
    "\n",
    "# pyglet.app.run()"
   ]
  },
  {
   "cell_type": "markdown",
   "metadata": {},
   "source": [
    "# what are the steps? \n",
    "\n",
    "1 - calculate the position of the root point. Hip position.\n",
    "\n",
    "2 - calculate the position for frame 1 of all the other joints based on this. that's why frame 1 is all 0s under MOTION, they joints are all at the default offsets and there's not a lot of rotation going on. The few taht are non zero dont do much set the arms to right angles, etc.\n",
    "\n",
    "3 - build a function that can take a point and rotate it in space. we need this because for each frame our renderer will take the skeleton at its default offsets (the starting frame essentially) and then apply rotations recursively to get a new skeleton with joints positions.\n",
    "\n",
    "4 - add the ability to draw lines for each joint."
   ]
  },
  {
   "cell_type": "markdown",
   "metadata": {},
   "source": [
    "# step 1 get the position of the hip"
   ]
  },
  {
   "cell_type": "code",
   "execution_count": 6,
   "metadata": {},
   "outputs": [
    {
     "data": {
      "text/plain": [
       "(344, 3)"
      ]
     },
     "execution_count": 6,
     "metadata": {},
     "output_type": "execute_result"
    }
   ],
   "source": [
    "#just grabe the first 3 values\n",
    "hip_anim[:,:3].shape"
   ]
  },
  {
   "cell_type": "markdown",
   "metadata": {},
   "source": [
    "# step 2 calculate the position of other joints"
   ]
  },
  {
   "cell_type": "code",
   "execution_count": 30,
   "metadata": {},
   "outputs": [
    {
     "name": "stdout",
     "output_type": "stream",
     "text": [
      "0\n"
     ]
    }
   ],
   "source": [
    "with open(file) as f:\n",
    "    bvh_r = bvh.Bvh(f.read())\n",
    "    j = bvh_r.get_joint('Hips')\n",
    "    print(bvh_r.get_joint_index('Hips'))"
   ]
  },
  {
   "cell_type": "code",
   "execution_count": 22,
   "metadata": {},
   "outputs": [
    {
     "data": {
      "text/plain": [
       "[(ROOT Hips, array([0., 0., 0.])),\n",
       " (JOINT LHipJoint, array([0., 0., 0.])),\n",
       " (JOINT LeftUpLeg, array([ 1.65674, -1.80282,  0.62477])),\n",
       " (JOINT LeftLeg, array([ 4.25394, -8.93858,  0.62477])),\n",
       " (JOINT LeftFoot, array([  5.08956, -13.98346,   0.     ])),\n",
       " (JOINT LeftToeBase, array([ 2.6894 , -7.38906,  2.14581])),\n",
       " (JOINT RHipJoint, array([0., 0., 0.])),\n",
       " (JOINT RightUpLeg, array([-1.6107 , -1.80282,  0.62476])),\n",
       " (JOINT RightLeg, array([-4.20572, -8.93259,  0.62476])),\n",
       " (JOINT RightFoot, array([ -5.06282, -13.91001,   0.     ])),\n",
       " (JOINT RightToeBase, array([-2.69804, -7.41282,  2.13368])),\n",
       " (JOINT LowerBack, array([0., 0., 0.])),\n",
       " (JOINT Spine, array([ 0.01961,  2.0545 , -0.14112])),\n",
       " (JOINT Spine1, array([ 0.02982,  4.11886, -0.20033])),\n",
       " (JOINT Neck, array([ 0.01021,  2.06436, -0.05921])),\n",
       " (JOINT Neck1, array([0.00713, 1.56711, 0.14968])),\n",
       " (JOINT Head, array([0.04142, 3.12752, 0.04962])),\n",
       " (JOINT LeftShoulder, array([ 0.01021,  2.06436, -0.05921])),\n",
       " (JOINT LeftArm, array([ 3.54205,  0.90436, -0.17364])),\n",
       " (JOINT LeftForeArm, array([ 8.40718,  0.90436, -0.17364])),\n",
       " (JOINT LeftHand, array([ 8.22067, -0.     ,  0.     ])),\n",
       " (JOINT LeftFingerBase, array([3.35554, 0.     , 0.     ])),\n",
       " (JOINT LeftHandIndex1, array([0.66117, 0.     , 0.     ])),\n",
       " (JOINT LThumb, array([3.35554, 0.     , 0.     ])),\n",
       " (JOINT RightShoulder, array([ 0.01021,  2.06436, -0.05921])),\n",
       " (JOINT RightArm, array([-3.49802,  0.75994, -0.32616])),\n",
       " (JOINT RightForeArm, array([-8.52451,  0.75994, -0.32616])),\n",
       " (JOINT RightHand, array([-8.3908, -0.    ,  0.    ])),\n",
       " (JOINT RightFingerBase, array([-3.36431,  0.     ,  0.     ])),\n",
       " (JOINT RightHandIndex1, array([-0.73041,  0.     ,  0.     ])),\n",
       " (JOINT RThumb, array([-3.36431,  0.     ,  0.     ]))]"
      ]
     },
     "execution_count": 22,
     "metadata": {},
     "output_type": "execute_result"
    }
   ],
   "source": [
    "# get the joint positions in absolute space\n",
    "# recursively goes through all joints\n",
    "# and finds their initial position, in \n",
    "# absolute spac\n",
    "def build_positions(file):\n",
    "    tree = []\n",
    "    lines = []\n",
    "    def check_children(node, parent, parent_offset):\n",
    "        parent_offset = np.array([float(x) for x in parent_offset])\n",
    "        child_offset = np.array([float(x) for x in node['OFFSET']])\n",
    "        node_offset = parent_offset+child_offset\n",
    "        tree.append((node, node_offset))\n",
    "        if np.sum(node_offset) > 0:\n",
    "            lines.append((parent, ))\n",
    "        for child in node:\n",
    "            if 'JOINT' in child.value:\n",
    "                parent_offset = node['OFFSET']\n",
    "                check_children(child, node, parent_offset)\n",
    "            \n",
    "    with open(file) as f:\n",
    "        bvh_r = bvh.Bvh(f.read())\n",
    "        j = bvh_r.get_joint('Hips')\n",
    "        check_children(j, None, j['OFFSET'])\n",
    "        \n",
    "    return tree, lines\n",
    "        \n",
    "tree, lines = build_positions(file)\n",
    "tree"
   ]
  },
  {
   "cell_type": "markdown",
   "metadata": {},
   "source": [
    "Now let's try to render this."
   ]
  },
  {
   "cell_type": "code",
   "execution_count": 23,
   "metadata": {
    "scrolled": false
   },
   "outputs": [],
   "source": [
    "# lines = np.array([np.array([line[0],line[1]]) for line in lines])\n",
    "# skel = np.array([joint[1] for joint in tree])\n",
    "# win = pyglet.window.Window(500,500,resizable=True)\n",
    "\n",
    "# # do not increase z\n",
    "# skel[:,:2] = scale_range(skel[:,:2], 0, 500)+150\n",
    "# skel[:,2] = scale_range(skel[:,2], -1, 1)\n",
    "\n",
    "# lines[:,:,:2] = scale_range(lines[:,:,:2], 0, 500)+150\n",
    "# lines[:,:,2] = scale_range(lines[:,:,2], -1, 1)\n",
    "\n",
    "# @win.event\n",
    "# def on_draw():\n",
    "#     glBegin(GL_POINTS)\n",
    "#     for i in range(skel.shape[0]):\n",
    "#         x = skel[i][0]\n",
    "#         y = skel[i][1]\n",
    "#         z = skel[i][2]\n",
    "#         glVertex3f(x,y,z)\n",
    "#     glEnd()\n",
    "\n",
    "# pyglet.app.run()"
   ]
  },
  {
   "cell_type": "markdown",
   "metadata": {},
   "source": [
    "It renders something close to a crucifix of dots."
   ]
  },
  {
   "cell_type": "markdown",
   "metadata": {},
   "source": [
    "# step 3 rotate points."
   ]
  },
  {
   "cell_type": "markdown",
   "metadata": {},
   "source": [
    "The 6 values that the root joint has for all 344 frames of this animation are the values in channels. Let's print the position channels single frame of root.\n",
    "\n",
    "See: https://www.siggraph.org/education/materials/HyperGraph/modeling/mod_tran/3drota.htm#Z\n",
    "```\n",
    "# rotation around z aka Zrotation\n",
    "x' = x*cos q - y*sin q\n",
    "y' = x*sin q + y*cos q \n",
    "z' = z\n",
    "\n",
    "# rotation around y\n",
    "z' = z*cos q - x*sin q\n",
    "x' = z*sin q + x*cos q\n",
    "y' = y\n",
    "\n",
    "# rotation around x\n",
    "y' = y*cos q - z*sin q\n",
    "z' = y*sin q + z*cos q\n",
    "x' = x\n",
    "```"
   ]
  },
  {
   "cell_type": "code",
   "execution_count": 24,
   "metadata": {},
   "outputs": [],
   "source": [
    "def rotate_point(point, angles):\n",
    "    '''\n",
    "    we could use rotation matrices but well stick to simple if statemeents\n",
    "    as they basically do the same thing here (and we just avoid the matrix math)\n",
    "    args\n",
    "        point is a 3D np array with the x,y,z coordinates of the point\n",
    "        angles are the euler angles in degrees of which rotations to perform. zrot, yrot, xrot\n",
    "    returns\n",
    "        a new position for this point as a np array\n",
    "    '''\n",
    "    x,y,z = point\n",
    "    # rotate x,y,z position around all axes of rotation\n",
    "    for i,rot in enumerate(angles):\n",
    "        #rotate about z\n",
    "        sin_rot = math.sin(rot)\n",
    "        cos_rot = math.cos(rot)\n",
    "        if i == 0:\n",
    "            x = x*cos_rot - y*sin_rot\n",
    "            y = x*sin_rot + y*cos_rot\n",
    "        # rotate about y\n",
    "        elif i == 1:\n",
    "            x = z*sin_rot + x*cos_rot\n",
    "            z = z*cos_rot - x*sin_rot\n",
    "        # rotate about x\n",
    "        elif i == 2:\n",
    "            y = y*cos_rot - z*sin_rot\n",
    "            z = y*sin_rot + z*cos_rot\n",
    "    return [x,y,z]\n",
    "\n",
    "assert rotate_point([10.4194, 16.7048, -30.1003], [0, 0, 0]) == [10.4194, 16.7048, -30.1003]\n",
    "# probably need some extra assertions here!"
   ]
  },
  {
   "cell_type": "code",
   "execution_count": 46,
   "metadata": {},
   "outputs": [],
   "source": [
    "hip_anim = get_joint_anim(file, 'Hips')\n",
    "other_anim = get_anims(file)\n",
    "positions, lines = build_positions(file)"
   ]
  },
  {
   "cell_type": "code",
   "execution_count": 47,
   "metadata": {},
   "outputs": [
    {
     "data": {
      "text/plain": [
       "((344, 6), (344, 31, 3))"
      ]
     },
     "execution_count": 47,
     "metadata": {},
     "output_type": "execute_result"
    }
   ],
   "source": [
    "hip_anim.shape, other_anim.shape"
   ]
  },
  {
   "cell_type": "code",
   "execution_count": 48,
   "metadata": {},
   "outputs": [
    {
     "data": {
      "text/plain": [
       "[(JOINT LHipJoint, JOINT LeftUpLeg),\n",
       " (JOINT LowerBack, JOINT Spine),\n",
       " (JOINT Spine, JOINT Spine1),\n",
       " (JOINT Spine1, JOINT Neck),\n",
       " (JOINT Neck, JOINT Neck1),\n",
       " (JOINT Neck1, JOINT Head),\n",
       " (JOINT Spine1, JOINT LeftShoulder),\n",
       " (JOINT LeftShoulder, JOINT LeftArm),\n",
       " (JOINT LeftArm, JOINT LeftForeArm),\n",
       " (JOINT LeftForeArm, JOINT LeftHand),\n",
       " (JOINT LeftHand, JOINT LeftFingerBase),\n",
       " (JOINT LeftFingerBase, JOINT LeftHandIndex1),\n",
       " (JOINT LeftHand, JOINT LThumb),\n",
       " (JOINT Spine1, JOINT RightShoulder)]"
      ]
     },
     "execution_count": 48,
     "metadata": {},
     "output_type": "execute_result"
    }
   ],
   "source": [
    "lines"
   ]
  },
  {
   "cell_type": "code",
   "execution_count": 52,
   "metadata": {},
   "outputs": [
    {
     "data": {
      "text/plain": [
       "((344, 31, 3), (344, 14, 2, 3))"
      ]
     },
     "execution_count": 52,
     "metadata": {},
     "output_type": "execute_result"
    }
   ],
   "source": [
    "def get_anim():\n",
    "    anim_lines = []\n",
    "    anim_positions = []\n",
    "    for hip_frame, other_frame in zip(hip_anim, other_anim):\n",
    "        # apply rotation to each point\n",
    "        new_positions = []\n",
    "        # get the relative position and add the position of the hip\n",
    "        # this is the base position for the frame that we then rotate\n",
    "        # to get the actual position\n",
    "        hip_pos = hip_frame[:3]\n",
    "        for i, (joint, rel_position) in enumerate(positions[1:]):\n",
    "            new_positions.append(rotate_point(hip_pos+rel_position, other_frame[i]))\n",
    "        hip_position = np.array(rotate_point(hip_pos, hip_frame[3:]))\n",
    "        new_positions = np.array(new_positions)\n",
    "        stacked_pos = np.vstack([hip_position, new_positions])\n",
    "        anim_positions.append(stacked_pos)\n",
    "        \n",
    "        new_lines = []\n",
    "        for line in lines:\n",
    "            idx1 = bvh_r.get_joint_index(line[0].name)\n",
    "            idx2 = bvh_r.get_joint_index(line[1].name)\n",
    "            new_lines.append(np.array([stacked_pos[idx1], stacked_pos[idx2]]))\n",
    "        \n",
    "        anim_lines.append(np.array(new_lines))\n",
    "        \n",
    "    return np.array(anim_positions), np.array(anim_lines)\n",
    "\n",
    "anim_points, anim_lines = get_anim()\n",
    "anim_points.shape, anim_lines.shape"
   ]
  },
  {
   "cell_type": "code",
   "execution_count": 20,
   "metadata": {
    "scrolled": true
   },
   "outputs": [],
   "source": [
    "frame = None\n",
    "def update_frame(a,b):\n",
    "    global frame\n",
    "    if frame == None or frame == anim_positions.shape[0]-1:\n",
    "        frame = 0\n",
    "    else:\n",
    "        frame += 1\n",
    "\n",
    "def animate_frames(data):\n",
    "    win = pyglet.window.Window(500,500,resizable=True)\n",
    "    \n",
    "    # do not increase z\n",
    "    data[:,:,:2] = scale_range(data[:,:,:2], 0, 500)+100\n",
    "    data[:,:,2] = scale_range(data[:,:,2], -1, 1)\n",
    "    \n",
    "    @win.event\n",
    "    def on_draw():\n",
    "        glClear(GL_COLOR_BUFFER_BIT)\n",
    "        glBegin(GL_POINTS)\n",
    "        for i in range(data.shape[1]):\n",
    "            x = data[frame][i][0]\n",
    "            y = data[frame][i][1]\n",
    "            z = data[frame][i][2]\n",
    "            glVertex3f(x,y,z)\n",
    "        glEnd()\n",
    "    pyglet.clock.schedule(update_frame, 1/10.0)\n",
    "    pyglet.app.run()\n",
    "    \n",
    "animate_frames(np.array(anim_positions))"
   ]
  },
  {
   "cell_type": "code",
   "execution_count": null,
   "metadata": {},
   "outputs": [],
   "source": []
  }
 ],
 "metadata": {
  "kernelspec": {
   "display_name": "Python 3",
   "language": "python",
   "name": "python3"
  },
  "language_info": {
   "codemirror_mode": {
    "name": "ipython",
    "version": 3
   },
   "file_extension": ".py",
   "mimetype": "text/x-python",
   "name": "python",
   "nbconvert_exporter": "python",
   "pygments_lexer": "ipython3",
   "version": "3.6.0"
  }
 },
 "nbformat": 4,
 "nbformat_minor": 2
}
