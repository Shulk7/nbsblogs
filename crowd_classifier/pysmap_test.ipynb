{
 "cells": [
  {
   "cell_type": "code",
   "execution_count": 1,
   "metadata": {
    "collapsed": true
   },
   "outputs": [],
   "source": [
    "def get_image_paths():\n",
    "    # get image paths\n",
    "    img_width, img_height = 224, 224\n",
    "    crowd_img = []\n",
    "    non_crowd_img = []\n",
    "    with open('/beegfs/work/smapp/playground/google_images/high_quality_images/yvan_control.txt') as f:\n",
    "        for line in f:\n",
    "            crowd_img.append(line.strip())\n",
    "    with open('/beegfs/work/smapp/playground/google_images/high_quality_images/yvan_noise.txt') as f:\n",
    "        for line in f:\n",
    "            non_crowd_img.append(line.strip())\n",
    "    return crowd_img, non_crowd_img"
   ]
  },
  {
   "cell_type": "code",
   "execution_count": 2,
   "metadata": {
    "collapsed": false
   },
   "outputs": [
    {
     "name": "stderr",
     "output_type": "stream",
     "text": [
      "Using TensorFlow backend.\n"
     ]
    },
    {
     "name": "stdout",
     "output_type": "stream",
     "text": [
      "downloading model file to: /scratch/yns207/crowdv1.h5.gz\n",
      "downloaded model file to: /scratch/yns207/crowdv1.h5\n",
      "loading model from from: /scratch/yns207/crowdv1.h5\n",
      "model predictions for crowd images:\n",
      "[0.99386108, 0.99531353, 0.99558073, 0.99985242, 0.95964116]\n",
      "model predictions for non-crowd images:\n",
      "[0.0016070358, 1.2340729e-06, 0.0035319822, 0.0061406349, 0.0099383844]\n"
     ]
    }
   ],
   "source": [
    "from pysmap.mltools.crowd_model import CrowdModel\n",
    "# download and instantiate the model\n",
    "cm = CrowdModel('/scratch/yns207/crowdv1.h5')\n",
    "\n",
    "# get image paths\n",
    "crowd_img, non_crowd_img = get_image_paths()\n",
    "\n",
    "# make predictions for 5 images\n",
    "crowd_preds = cm.predict_files(crowd_img[:5])\n",
    "non_crowd_preds = cm.predict_files(non_crowd_img[:5])\n",
    "\n",
    "# show predictions\n",
    "print('model predictions for crowd images:')\n",
    "print(list(crowd_preds.flatten()))\n",
    "\n",
    "print('model predictions for non-crowd images:')\n",
    "print(list(non_crowd_preds.flatten()))"
   ]
  },
  {
   "cell_type": "code",
   "execution_count": null,
   "metadata": {
    "collapsed": false
   },
   "outputs": [],
   "source": []
  }
 ],
 "metadata": {
  "kernelspec": {
   "display_name": "Python 3",
   "language": "python",
   "name": "python3"
  },
  "language_info": {
   "codemirror_mode": {
    "name": "ipython",
    "version": 3
   },
   "file_extension": ".py",
   "mimetype": "text/x-python",
   "name": "python",
   "nbconvert_exporter": "python",
   "pygments_lexer": "ipython3",
   "version": "3.5.3"
  }
 },
 "nbformat": 4,
 "nbformat_minor": 2
}
