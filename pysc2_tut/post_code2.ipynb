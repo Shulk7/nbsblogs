{
 "cells": [
  {
   "cell_type": "markdown",
   "metadata": {},
   "source": [
    "The first step is to create an AI that can play the mineral collection game."
   ]
  },
  {
   "cell_type": "code",
   "execution_count": 1,
   "metadata": {},
   "outputs": [],
   "source": [
    "import numpy as np\n",
    "from pysc2.agents import base_agent\n",
    "from pysc2.lib import actions\n",
    "from pysc2.lib import features\n",
    "from pysc2.env import sc2_env, run_loop, available_actions_printer\n",
    "from pysc2 import maps\n",
    "from absl import flags"
   ]
  },
  {
   "cell_type": "code",
   "execution_count": 2,
   "metadata": {},
   "outputs": [],
   "source": [
    "_AI_RELATIVE = features.SCREEN_FEATURES.player_relative.index\n",
    "_AI_SELF = 1\n",
    "_AI_NEUTRAL = 3\n",
    "_NO_OP = actions.FUNCTIONS.no_op.id\n",
    "_MOVE_SCREEN = actions.FUNCTIONS.Attack_screen.id\n",
    "_SELECT_ARMY = actions.FUNCTIONS.select_army.id\n",
    "_SELECT_ALL = [0]\n",
    "_NOT_QUEUED = [0]"
   ]
  },
  {
   "cell_type": "code",
   "execution_count": 5,
   "metadata": {},
   "outputs": [],
   "source": [
    "def get_beacon_location(ai_relative_view):\n",
    "    '''returns the location indices of the beacon on the map'''\n",
    "    return (ai_relative_view == _AI_NEUTRAL).nonzero() \n",
    "    \n",
    "class Agent2(base_agent.BaseAgent):\n",
    "    \"\"\"An agent for doing a simple movement form one point to another.\"\"\"\n",
    "    def step(self, obs):\n",
    "        '''step function gets called automatically by pysc2 environment'''\n",
    "        super(Agent2, self).__init__()\n",
    "        super(Agent2, self).step(obs)\n",
    "        if _MOVE_SCREEN in obs.observation['available_actions']:\n",
    "            ai_view = obs.observation['screen'][_AI_RELATIVE]\n",
    "            # get the beacon coordinates\n",
    "            beacon_xs, beacon_ys = get_beacon_location(ai_view)\n",
    "            if not beacon_ys.any():\n",
    "                return actions.FunctionCall(_NO_OP, [])\n",
    "            # get the middle of the beacon and move there\n",
    "            target = [beacon_ys.mean(), beacon_xs.mean()]\n",
    "            return actions.FunctionCall(_MOVE_SCREEN, [_NOT_QUEUED, target])\n",
    "        else:\n",
    "            return actions.FunctionCall(_SELECT_ARMY, [_SELECT_ALL])"
   ]
  },
  {
   "cell_type": "code",
   "execution_count": 6,
   "metadata": {
    "scrolled": false
   },
   "outputs": [
    {
     "name": "stdout",
     "output_type": "stream",
     "text": [
      "Took 7.970 seconds for 2102 steps: 263.755 fps\n"
     ]
    }
   ],
   "source": [
    "FLAGS = flags.FLAGS\n",
    "FLAGS(['run_sc2'])\n",
    "\n",
    "viz = True\n",
    "steps = 25000\n",
    "save_replay = True\n",
    "\n",
    "# create a map\n",
    "beacon_map = maps.get('MoveToBeacon')\n",
    "\n",
    "# create an envirnoment\n",
    "with sc2_env.SC2Env(agent_race=None, bot_race=None, difficulty=None, map_name=beacon_map, visualize=viz) as env:\n",
    "    agent=Agent2()\n",
    "    run_loop.run_loop([agent], env, steps)\n",
    "    if save_replay:\n",
    "        env.save_replay(Agent2.__name__)"
   ]
  },
  {
   "cell_type": "markdown",
   "metadata": {},
   "source": [
    "Reward:"
   ]
  },
  {
   "cell_type": "code",
   "execution_count": null,
   "metadata": {},
   "outputs": [],
   "source": [
    "agent.reward, agent.episodes"
   ]
  },
  {
   "cell_type": "code",
   "execution_count": null,
   "metadata": {},
   "outputs": [],
   "source": [
    "agent.reward/agent.episodes"
   ]
  },
  {
   "cell_type": "markdown",
   "metadata": {},
   "source": [
    "Much better than 0! This is an avg reward close to 18 per episode. "
   ]
  },
  {
   "cell_type": "markdown",
   "metadata": {},
   "source": [
    "Let's say that a reward of 18-20 is optimal per episode. Now we have some idea for what to benchmark our algorithm to."
   ]
  },
  {
   "cell_type": "code",
   "execution_count": null,
   "metadata": {},
   "outputs": [],
   "source": [
    "env.step"
   ]
  },
  {
   "cell_type": "code",
   "execution_count": null,
   "metadata": {},
   "outputs": [],
   "source": []
  }
 ],
 "metadata": {
  "kernelspec": {
   "display_name": "Python 3",
   "language": "python",
   "name": "python3"
  },
  "language_info": {
   "codemirror_mode": {
    "name": "ipython",
    "version": 3
   },
   "file_extension": ".py",
   "mimetype": "text/x-python",
   "name": "python",
   "nbconvert_exporter": "python",
   "pygments_lexer": "ipython3",
   "version": "3.6.4"
  }
 },
 "nbformat": 4,
 "nbformat_minor": 2
}
