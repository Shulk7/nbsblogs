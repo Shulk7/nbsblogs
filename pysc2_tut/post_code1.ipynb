{
 "cells": [
  {
   "cell_type": "markdown",
   "metadata": {},
   "source": [
    "The first step is to create an AI that can play the mineral collection game."
   ]
  },
  {
   "cell_type": "code",
   "execution_count": 12,
   "metadata": {},
   "outputs": [],
   "source": [
    "import numpy as np\n",
    "from pysc2.agents import base_agent\n",
    "from pysc2.lib import actions\n",
    "from pysc2.lib import features\n",
    "from pysc2.env import sc2_env, run_loop, available_actions_printer\n",
    "from pysc2 import maps\n",
    "from absl import flags"
   ]
  },
  {
   "cell_type": "markdown",
   "metadata": {},
   "source": [
    "Setup useful constants for actions/things:"
   ]
  },
  {
   "cell_type": "code",
   "execution_count": 8,
   "metadata": {},
   "outputs": [
    {
     "data": {
      "text/plain": [
       "(5, 1, 3, 0, 12, 7)"
      ]
     },
     "execution_count": 8,
     "metadata": {},
     "output_type": "execute_result"
    }
   ],
   "source": [
    "_AI_RELATIVE = features.SCREEN_FEATURES.player_relative.index\n",
    "_AI_SELF = 1\n",
    "_AI_NEUTRAL = 3\n",
    "_NO_OP = actions.FUNCTIONS.no_op.id\n",
    "_MOVE_SCREEN = actions.FUNCTIONS.Attack_screen.id\n",
    "_SELECT_ARMY = actions.FUNCTIONS.select_army.id\n",
    "_AI_RELATIVE, _AI_SELF, _AI_NEUTRAL, _NO_OP, _MOVE_SCREEN, _SELECT_ARMY"
   ]
  },
  {
   "cell_type": "markdown",
   "metadata": {},
   "source": [
    "What are these numbers? They are indices that get particular data or functions. [You can read about it here](https://github.com/deepmind/pysc2/blob/master/docs/environment.md#screen).\n",
    "\n",
    "The index below is for passing into `obs.observation['screen'][_THE_INDEX]`\n",
    "\n",
    "`_AI_RELATIVE` - is an index for obs.observation['screen'] (what our AI can see about the wrold). It gets one of the possible obsevation spaces from the screen ([see this for the rest](https://www.youtube.com/watch?v=-fKUyT14G-8)). The grid we get is the 1st screen in the second row (index 5); again this is the world our AI will see. It's an 84x84 grid that has 0, 1, 2, 3, 4s, 0 - background, 1 - the AI's units, 2 - allied units, 3 - neutral units, 4 enemy (hostile) units. We shouldn't have any 2s, 4s in our game but we will have 0,1,3\n",
    "\n",
    "`_AI_SELF` - just tells you what the value of its own objects are in the grid world our AI will see, as per the docs it should be 1\n",
    "\n",
    "`_AI_NEUTRAL` - just tells you what the value of neutral objects are in the grid world our AI will see, as per the docs it should be 3\n",
    "\n",
    "The indices below are for passing into `actions.FunctionCall(_THE_INDEX, [FLAGS])`\n",
    "\n",
    "`_MOVE_SCREEN` - is an index tells your AI to move whatever it has selected somewhere on the current screen \n",
    "\n",
    "`_SELECT_ARMY` - tells your AI to select its units\n",
    "\n",
    "`_NO_OP` - is an action your AI can perform, the action to do nothing, its like conciously choosing to do nothing if that's the best thing to do.\n",
    "\n",
    "To see all possible actions run this in your terminal: \n",
    "\n",
    "`python -m pysc2.bin.valid_actions`\n",
    "\n",
    "If this is still confusing don't worry it will make sense in a second."
   ]
  },
  {
   "cell_type": "code",
   "execution_count": 9,
   "metadata": {},
   "outputs": [],
   "source": [
    "_SELECT_ALL = [0]\n",
    "_NOT_QUEUED = [0]"
   ]
  },
  {
   "cell_type": "markdown",
   "metadata": {},
   "source": [
    "These are flags for passing into FLAGS: `actions.FunctionCall(_THE_INDEX, [FLAGS])`.\n",
    "\n",
    "The `_SELECT_ALL` flag set to 0 is used to say whether to add the unit to the current selection or replace it. So if it's set to `0` then we should just replace whatever is current selected by reselecting the army, if it's set to `1` we should select the army in addition to whatever else we have selected. This is for when you may want to select non-combat units + army units.\n",
    "\n",
    "THE `_NOT_QUEUED` flag set to `0` will be used say 'don't queue this action, just do it right away.'Queueing allows the creation of bots with more complex behavior by adding actions that can be delayed or put off for later (until there is nothing happening or synchronize actions on a timer: build a marine at 5, 20, 100, etc).\n",
    "\n",
    "Alright enough blab, let's build the bot."
   ]
  },
  {
   "cell_type": "code",
   "execution_count": 10,
   "metadata": {},
   "outputs": [],
   "source": [
    "def get_marine_location(ai_relative_view):\n",
    "    '''get the indices where the world is equal to 1'''\n",
    "    return (ai_relative_view == _AI_SELF).nonzero()\n",
    "    \n",
    "def get_rand_location(ai_location):\n",
    "    '''gets a random location at least n away from current x,y point.'''\n",
    "    ai_x, ai_y = ai_location[0].mean(), ai_location[1].mean()\n",
    "    move_at_leastx = 0\n",
    "    move_at_leasty = 0\n",
    "    # get dircetion to move\n",
    "    if ai_x < 32:\n",
    "        move_at_leastx = 5\n",
    "    else:\n",
    "        move_at_leastx = -5\n",
    "        \n",
    "    if ai_y < 32:\n",
    "        move_at_leasty = 5\n",
    "    else:\n",
    "        move_at_leasty = -5\n",
    "    return [np.random.randint(ai_x+move_at_leastx, 64), np.random.randint(ai_y+move_at_leasty, 64)]\n",
    "    \n",
    "class Agent(base_agent.BaseAgent):\n",
    "    \"\"\"An agent for doing a simple movement form one point to another.\"\"\"\n",
    "    def step(self, obs):\n",
    "        '''step function gets called automatically by pysc2 environment'''\n",
    "        # call the parent class to have pysc2 setup rewards/etc for us\n",
    "        super(Agent, self).step(obs)\n",
    "        # if we can move our army (we have something selected)\n",
    "        if _MOVE_SCREEN in obs.observation['available_actions']:\n",
    "            # get what the ai can see about the world\n",
    "            ai_view = obs.observation['screen'][_AI_RELATIVE]\n",
    "            # get the location of our marine in this world\n",
    "            marine_x, marine_y = get_marine_location(ai_view)\n",
    "            # it our marine is not on the screen do nothing.\n",
    "            # this happens if we scroll away and look at a different\n",
    "            # part of the world\n",
    "            if not marine_x.any():\n",
    "                return actions.FunctionCall(_NO_OP, [])\n",
    "            target = get_rand_location([marine_x, marine_y])\n",
    "            return actions.FunctionCall(_MOVE_SCREEN, [_NOT_QUEUED, target])\n",
    "        # if we can't move, we havent selected our army, so selecto ur army\n",
    "        else:\n",
    "            return actions.FunctionCall(_SELECT_ARMY, [_SELECT_ALL])"
   ]
  },
  {
   "cell_type": "code",
   "execution_count": 11,
   "metadata": {
    "scrolled": false
   },
   "outputs": [
    {
     "name": "stderr",
     "output_type": "stream",
     "text": [
      "W1231 15:08:09.938910 140160288827136 sc_process.py:183] Killing the process.\n"
     ]
    },
    {
     "name": "stdout",
     "output_type": "stream",
     "text": [
      "Took 15.398 seconds for 5000 steps: 324.720 fps\n"
     ]
    }
   ],
   "source": [
    "FLAGS = flags.FLAGS\n",
    "FLAGS(['run_sc2'])\n",
    "\n",
    "steps = 5000\n",
    "save_replay = True\n",
    "\n",
    "# create a map\n",
    "beacon_map = maps.get('MoveToBeacon')\n",
    "\n",
    "# create an envirnoment\n",
    "with sc2_env.SC2Env(agent_race=None, bot_race=None, difficulty=None, map_name=beacon_map) as env:\n",
    "    agent=Agent()\n",
    "    run_loop.run_loop([agent], env, steps)\n",
    "    if save_replay:\n",
    "        env.save_replay(Agent.__name__)"
   ]
  },
  {
   "cell_type": "markdown",
   "metadata": {},
   "source": [
    "Other sources:\n",
    "https://github.com/chris-chris/pysc2-examples\n",
    "\n",
    "https://github.com/skjb/pysc2-tutorial\n",
    "\n",
    "https://chatbotslife.com/building-a-basic-pysc2-agent-b109cde1477c\n",
    "\n",
    "https://gamescapad.es/building-bots-in-starcraft-2-for-psychologists/#installation"
   ]
  },
  {
   "cell_type": "code",
   "execution_count": null,
   "metadata": {},
   "outputs": [],
   "source": []
  }
 ],
 "metadata": {
  "kernelspec": {
   "display_name": "Python 3",
   "language": "python",
   "name": "python3"
  },
  "language_info": {
   "codemirror_mode": {
    "name": "ipython",
    "version": 3
   },
   "file_extension": ".py",
   "mimetype": "text/x-python",
   "name": "python",
   "nbconvert_exporter": "python",
   "pygments_lexer": "ipython3",
   "version": "3.6.4"
  }
 },
 "nbformat": 4,
 "nbformat_minor": 2
}
