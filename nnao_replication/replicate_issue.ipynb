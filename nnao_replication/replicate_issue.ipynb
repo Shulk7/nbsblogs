{
 "cells": [
  {
   "cell_type": "markdown",
   "metadata": {},
   "source": [
    "Replicate the issue I'm having with .bin files loading as images."
   ]
  },
  {
   "cell_type": "code",
   "execution_count": 1,
   "metadata": {},
   "outputs": [],
   "source": [
    "import os\n",
    "import numpy as np\n",
    "from PIL import Image"
   ]
  },
  {
   "cell_type": "code",
   "execution_count": 2,
   "metadata": {},
   "outputs": [],
   "source": [
    "sample1 = 'ao_mesa1.1.bin'\n",
    "sample2 = 'normalCam_mesa1.1.bin'\n",
    "sample_array1 = np.fromfile(sample1, dtype=np.float32).reshape(720,1280,1)\n",
    "sample_array2 = np.fromfile(sample2, dtype=np.float32).reshape(720,1280,4)"
   ]
  },
  {
   "cell_type": "code",
   "execution_count": 3,
   "metadata": {},
   "outputs": [
    {
     "data": {
      "text/plain": [
       "((720, 1280), (720, 1280, 3), (720, 1280, 1))"
      ]
     },
     "execution_count": 3,
     "metadata": {},
     "output_type": "execute_result"
    }
   ],
   "source": [
    "sa2_data = sample_array2[:,:,:3]\n",
    "sa2_normals = sample_array2[:,:,3:]\n",
    "sa1 = sample_array1.squeeze()\n",
    "sa1.shape, sa2_data.shape, sa2_normals.shape"
   ]
  },
  {
   "cell_type": "code",
   "execution_count": 4,
   "metadata": {},
   "outputs": [],
   "source": [
    "img1 = Image.fromarray(sa1,mode='L')\n",
    "img1.show()\n",
    "img2 = Image.fromarray(sa2_data, mode='RGB')\n",
    "img2.show()"
   ]
  },
  {
   "cell_type": "code",
   "execution_count": 5,
   "metadata": {},
   "outputs": [],
   "source": [
    "# img1.save('test1.png')\n",
    "# img2.save('test2.png')"
   ]
  },
  {
   "cell_type": "markdown",
   "metadata": {},
   "source": [
    "On my compyter both images have a bunch of seemingly extra/empty pixels at regular intervals."
   ]
  },
  {
   "cell_type": "code",
   "execution_count": 6,
   "metadata": {},
   "outputs": [
    {
     "data": {
      "text/plain": [
       "'1.15.4'"
      ]
     },
     "execution_count": 6,
     "metadata": {},
     "output_type": "execute_result"
    }
   ],
   "source": [
    "np.__version__"
   ]
  },
  {
   "cell_type": "code",
   "execution_count": null,
   "metadata": {},
   "outputs": [],
   "source": []
  }
 ],
 "metadata": {
  "kernelspec": {
   "display_name": "Python 3",
   "language": "python",
   "name": "python3"
  },
  "language_info": {
   "codemirror_mode": {
    "name": "ipython",
    "version": 3
   },
   "file_extension": ".py",
   "mimetype": "text/x-python",
   "name": "python",
   "nbconvert_exporter": "python",
   "pygments_lexer": "ipython3",
   "version": "3.7.1"
  }
 },
 "nbformat": 4,
 "nbformat_minor": 2
}
