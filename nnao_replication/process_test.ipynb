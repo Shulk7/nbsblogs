{
 "cells": [
  {
   "cell_type": "code",
   "execution_count": 14,
   "metadata": {},
   "outputs": [],
   "source": [
    "import matplotlib.pyplot as plt"
   ]
  },
  {
   "cell_type": "code",
   "execution_count": 3,
   "metadata": {},
   "outputs": [
    {
     "name": "stdout",
     "output_type": "stream",
     "text": [
      "Processing Database \"mesa1\"\n",
      "Processing Image 150 of 150\n",
      "Processing Database \"mesa2\"\n",
      "Processing Image 150 of 150\n",
      "Processing Database \"mesa3\"\n",
      "Processing Image 150 of 150\n",
      "Processing Database \"mesa4\"\n",
      "Processing Image 100 of 100\n",
      "Processing Database \"mesa_props\"\n",
      "Processing Image 100 of 100\n",
      "(665600, 31, 31, 4) (665600, 1) 665600\n",
      "0.0 [0.11618026]\n",
      "[ 5.2099265e-05 -2.8511984e-06 -7.6131044e-05  4.5999829e-03] [0.04715738 0.05295582 0.03093803 0.05632147]\n"
     ]
    }
   ],
   "source": [
    "import os\n",
    "import sys\n",
    "import numpy as np\n",
    "import h5py\n",
    "\n",
    "rng = np.random.RandomState(23455)\n",
    "\n",
    "clip_near = 0.1\n",
    "clip_far = 1000.0\n",
    "\n",
    "cam_inv_proj = np.array([\n",
    "    [-1.398332, -0.000000,  0.000000, -0.000000],\n",
    "    [-0.000000,  0.786562, -0.000000,  0.000000],\n",
    "    [ 0.000000, -0.000000,  0.000000, -1.000000],\n",
    "    [-0.000000,  0.000000, -4.999500,  5.000499]])\n",
    "\n",
    "cam_proj  = np.array([\n",
    "    [-0.715138, 0.000000, -0.000000,  0.000000],\n",
    "    [ 0.000000, 1.271356,  0.000000,  0.000000],\n",
    "    [ 0.000000, 0.000000, -1.000200, -0.200020],\n",
    "    [ 0.000000, 0.000000, -1.000000,  0.000000]])\n",
    "\n",
    "def perspective_depth(d, n, f):\n",
    "    return -((2 * n) / d - f - n) / (f - n)\n",
    "\n",
    "def camera_space(D):\n",
    "    D = perspective_depth(1-D, clip_near, clip_far) * 2.0 - 1.0\n",
    "    U = np.empty((D.shape[0], D.shape[1], 2))\n",
    "    U[:,:,0] = (((np.arange(D.shape[0])+0.5)/D.shape[0]) * 2.0 - 1.0)[:,np.newaxis]\n",
    "    U[:,:,1] = (((np.arange(D.shape[1])+0.5)/D.shape[1]) * 2.0 - 1.0)[np.newaxis,:]\n",
    "    P = np.concatenate([U[:,:,0:1], U[:,:,1:2], D, np.ones(D.shape)], axis=-1)\n",
    "    P = cam_inv_proj.dot(P.reshape(-1,4).T).T.reshape(P.shape)\n",
    "    return P[:,:,:3] / P[:,:,3:4]\n",
    "    \n",
    "nsamples = 1024\n",
    "fw = 31\n",
    "radius = 1.0\n",
    "hw = int(((fw-1)/2))\n",
    "coords = np.array([[x,y,0] for x in range(-hw, hw+1) for y in range(-hw, hw+1)], dtype=np.float) / hw\n",
    "\n",
    "databases = [\n",
    "    ('mesa1',      150),\n",
    "    ('mesa2',      150),\n",
    "    ('mesa3',      150),\n",
    "    ('mesa4',      100),\n",
    "    ('mesa_props', 100),\n",
    "]\n",
    "\n",
    "total_images = sum([nimages for (name, nimages) in databases])\n",
    "\n",
    "X = np.empty((nsamples*total_images, fw, fw, 4), dtype=np.float32)\n",
    "Y = np.empty((nsamples*total_images, 1), dtype=np.float32)\n",
    "\n",
    "ii = 0\n",
    "\n",
    "for name, nimages in databases:\n",
    "    \n",
    "    print('Processing Database \"%s\"' % name)\n",
    "    \n",
    "    for i in range(1, nimages+1):\n",
    "        \n",
    "        sys.stdout.write('\\rProcessing Image %i of %i' % (i, nimages))\n",
    "        \n",
    "        S = np.fromfile('/home/yvan/Downloads/nnao_demo/data/raw/'+name+'/AO/'+name+'.'+str(i)+'.bin', dtype=np.float32).reshape(720, 1280, 1)\n",
    "        N = np.fromfile('/home/yvan/Downloads/nnao_demo/data/raw/'+name+'/normalCam/'+name+'.'+str(i)+'.bin', dtype=np.float32).reshape(720, 1280, 4)\n",
    "        N, D = N[:,:,:3], N[:,:,3:]\n",
    "        \n",
    "        S, N, D = np.swapaxes(S, 0, 1), np.swapaxes(N, 0, 1), np.swapaxes(D, 0, 1)\n",
    "        W = camera_space(D)\n",
    "        \n",
    "        for _ in range(nsamples):\n",
    "            x, y = rng.randint(S.shape[0]), rng.randint(S.shape[1])\n",
    "        \n",
    "            nexts = W[x,y] + radius * coords\n",
    "            nexts = np.concatenate([nexts, np.ones((len(coords), 1))], axis=-1)\n",
    "            nexts = cam_proj.dot(nexts.T).T\n",
    "            nexts = (nexts[:,:2] / nexts[:,3:])*0.5+0.5\n",
    "            \n",
    "            indices = (\n",
    "                np.clip(nexts[:,0]*W.shape[0], 0, W.shape[0]-1).astype(np.int),\n",
    "                np.clip(nexts[:,1]*W.shape[1], 0, W.shape[1]-1).astype(np.int))\n",
    "\n",
    "            length = np.sqrt(np.sum((W[indices] - W[x,y])**2, axis=-1))[...,np.newaxis]\n",
    "            dists = 1.0 - np.clip(length / radius, 0, 1)\n",
    "            \n",
    "            X[ii] = np.concatenate([\n",
    "                (N[indices] - N[x,y]) * dists,\n",
    "                (W[indices] - W[x,y])[:,2:] * dists,\n",
    "            ], axis=-1).reshape(fw, fw, 4)\n",
    "            \n",
    "            Y[ii] = S[x:x+1,y:y+1]\n",
    "            \n",
    "            ii += 1\n",
    "            \n",
    "        \n",
    "    print('')\n",
    "    \n",
    "print(X.shape, Y.shape, ii)\n",
    "\n",
    "Ymean = 0.0\n",
    "Ystd = Y.reshape(-1, Y.shape[-1])[::100].std(axis=0, dtype=np.float64).astype(np.float32)\n",
    "print(Ymean, Ystd)\n",
    "\n",
    "Xmean = X.reshape(-1, X.shape[-1])[::100].mean(axis=0, dtype=np.float64).astype(np.float32)\n",
    "Xstd = X.reshape(-1, X.shape[-1])[::100].std(axis=0, dtype=np.float64).astype(np.float32)\n",
    "print(Xmean, Xstd)\n",
    "\n",
    "f = h5py.File('database.hdf5', 'w')\n",
    "f.create_dataset('X', data=X)\n",
    "f.create_dataset('Y', data=Y)\n",
    "f.create_dataset('Xmean', data=Xmean)\n",
    "f.create_dataset('Xstd', data=Xstd)\n",
    "f.create_dataset('Ymean', data=Ymean)\n",
    "f.create_dataset('Ystd', data=Ystd)\n",
    "f.close()"
   ]
  },
  {
   "cell_type": "code",
   "execution_count": 4,
   "metadata": {},
   "outputs": [],
   "source": [
    "f = h5py.File(\"database.hdf5\", \"r\")\n",
    "\n",
    "N, width, height = f['X'].shape[:3]\n",
    "Ymean, Ystd = np.array(f['Ymean']), np.array(f['Ystd'])\n",
    "Xmean, Xstd = np.array(f['Xmean']), np.array(f['Xstd'])"
   ]
  },
  {
   "cell_type": "code",
   "execution_count": 5,
   "metadata": {},
   "outputs": [
    {
     "data": {
      "text/plain": [
       "665600"
      ]
     },
     "execution_count": 5,
     "metadata": {},
     "output_type": "execute_result"
    }
   ],
   "source": [
    "N"
   ]
  },
  {
   "cell_type": "code",
   "execution_count": 6,
   "metadata": {},
   "outputs": [
    {
     "data": {
      "text/plain": [
       "31"
      ]
     },
     "execution_count": 6,
     "metadata": {},
     "output_type": "execute_result"
    }
   ],
   "source": [
    "width"
   ]
  },
  {
   "cell_type": "code",
   "execution_count": 7,
   "metadata": {},
   "outputs": [
    {
     "data": {
      "text/plain": [
       "31"
      ]
     },
     "execution_count": 7,
     "metadata": {},
     "output_type": "execute_result"
    }
   ],
   "source": [
    "height"
   ]
  },
  {
   "cell_type": "code",
   "execution_count": 9,
   "metadata": {},
   "outputs": [
    {
     "data": {
      "text/plain": [
       "(array(0.), array([0.11618026], dtype=float32))"
      ]
     },
     "execution_count": 9,
     "metadata": {},
     "output_type": "execute_result"
    }
   ],
   "source": [
    "Ymean, Ystd"
   ]
  },
  {
   "cell_type": "code",
   "execution_count": 10,
   "metadata": {},
   "outputs": [
    {
     "data": {
      "text/plain": [
       "(array([ 5.2099265e-05, -2.8511984e-06, -7.6131044e-05,  4.5999829e-03],\n",
       "       dtype=float32),\n",
       " array([0.04715738, 0.05295582, 0.03093803, 0.05632147], dtype=float32))"
      ]
     },
     "execution_count": 10,
     "metadata": {},
     "output_type": "execute_result"
    }
   ],
   "source": [
    "Xmean, Xstd"
   ]
  },
  {
   "cell_type": "code",
   "execution_count": 18,
   "metadata": {},
   "outputs": [
    {
     "name": "stderr",
     "output_type": "stream",
     "text": [
      "Clipping input data to the valid range for imshow with RGB data ([0..1] for floats or [0..255] for integers).\n"
     ]
    },
    {
     "data": {
      "text/plain": [
       "<matplotlib.image.AxesImage at 0x7f69f6703a20>"
      ]
     },
     "execution_count": 18,
     "metadata": {},
     "output_type": "execute_result"
    },
    {
     "data": {
      "image/png": "[encoded data removed]",
      "text/plain": [
       "<Figure size 432x288 with 1 Axes>"
      ]
     },
     "metadata": {
      "needs_background": "light"
     },
     "output_type": "display_data"
    }
   ],
   "source": [
    "plt.imshow(f['X'][100])"
   ]
  },
  {
   "cell_type": "code",
   "execution_count": 20,
   "metadata": {},
   "outputs": [
    {
     "data": {
      "text/plain": [
       "0.000127042"
      ]
     },
     "execution_count": 20,
     "metadata": {},
     "output_type": "execute_result"
    }
   ],
   "source": [
    "f['X'][250].mean()"
   ]
  },
  {
   "cell_type": "code",
   "execution_count": 27,
   "metadata": {},
   "outputs": [
    {
     "name": "stdout",
     "output_type": "stream",
     "text": [
      "[[-1.         -1.          0.        ]\n",
      " [-1.         -0.93333333  0.        ]\n",
      " [-1.         -0.86666667  0.        ]\n",
      " [-1.         -0.8         0.        ]\n",
      " [-1.         -0.73333333  0.        ]\n",
      " [-1.         -0.66666667  0.        ]\n",
      " [-1.         -0.6         0.        ]\n",
      " [-1.         -0.53333333  0.        ]\n",
      " [-1.         -0.46666667  0.        ]\n",
      " [-1.         -0.4         0.        ]\n",
      " [-1.         -0.33333333  0.        ]\n",
      " [-1.         -0.26666667  0.        ]\n",
      " [-1.         -0.2         0.        ]\n",
      " [-1.         -0.13333333  0.        ]\n",
      " [-1.         -0.06666667  0.        ]\n",
      " [-1.          0.          0.        ]\n",
      " [-1.          0.06666667  0.        ]\n",
      " [-1.          0.13333333  0.        ]\n",
      " [-1.          0.2         0.        ]\n",
      " [-1.          0.26666667  0.        ]\n",
      " [-1.          0.33333333  0.        ]\n",
      " [-1.          0.4         0.        ]\n",
      " [-1.          0.46666667  0.        ]\n",
      " [-1.          0.53333333  0.        ]\n",
      " [-1.          0.6         0.        ]\n",
      " [-1.          0.66666667  0.        ]\n",
      " [-1.          0.73333333  0.        ]\n",
      " [-1.          0.8         0.        ]\n",
      " [-1.          0.86666667  0.        ]\n",
      " [-1.          0.93333333  0.        ]\n",
      " [-1.          1.          0.        ]\n",
      " [-0.93333333 -1.          0.        ]\n",
      " [-0.93333333 -0.93333333  0.        ]\n",
      " [-0.93333333 -0.86666667  0.        ]\n",
      " [-0.93333333 -0.8         0.        ]\n",
      " [-0.93333333 -0.73333333  0.        ]\n",
      " [-0.93333333 -0.66666667  0.        ]\n",
      " [-0.93333333 -0.6         0.        ]\n",
      " [-0.93333333 -0.53333333  0.        ]\n",
      " [-0.93333333 -0.46666667  0.        ]\n",
      " [-0.93333333 -0.4         0.        ]\n",
      " [-0.93333333 -0.33333333  0.        ]\n",
      " [-0.93333333 -0.26666667  0.        ]\n",
      " [-0.93333333 -0.2         0.        ]\n",
      " [-0.93333333 -0.13333333  0.        ]\n",
      " [-0.93333333 -0.06666667  0.        ]\n",
      " [-0.93333333  0.          0.        ]\n",
      " [-0.93333333  0.06666667  0.        ]\n",
      " [-0.93333333  0.13333333  0.        ]\n",
      " [-0.93333333  0.2         0.        ]]\n"
     ]
    }
   ],
   "source": [
    "print(coords[:50])"
   ]
  },
  {
   "cell_type": "code",
   "execution_count": 82,
   "metadata": {},
   "outputs": [],
   "source": [
    "next_pts = W[1,5] + 1.0 * coords"
   ]
  },
  {
   "cell_type": "code",
   "execution_count": 83,
   "metadata": {},
   "outputs": [],
   "source": [
    "next_pts = np.concatenate([next_pts, np.ones((len(coords), 1))], axis=-1)"
   ]
  },
  {
   "cell_type": "code",
   "execution_count": 84,
   "metadata": {},
   "outputs": [
    {
     "data": {
      "text/plain": [
       "array([[ 8.17586759, -6.09451228, -6.57742514,  1.        ],\n",
       "       [ 8.17586759, -6.02784562, -6.57742514,  1.        ],\n",
       "       [ 8.17586759, -5.96117895, -6.57742514,  1.        ],\n",
       "       ...,\n",
       "       [10.17586759, -4.22784562, -6.57742514,  1.        ],\n",
       "       [10.17586759, -4.16117895, -6.57742514,  1.        ],\n",
       "       [10.17586759, -4.09451228, -6.57742514,  1.        ]])"
      ]
     },
     "execution_count": 84,
     "metadata": {},
     "output_type": "execute_result"
    }
   ],
   "source": [
    "next_pts"
   ]
  },
  {
   "cell_type": "code",
   "execution_count": 90,
   "metadata": {},
   "outputs": [
    {
     "data": {
      "text/plain": [
       "((4, 4), (4, 961))"
      ]
     },
     "execution_count": 90,
     "metadata": {},
     "output_type": "execute_result"
    }
   ],
   "source": [
    "cam_proj.shape, next_pts.T.shape"
   ]
  },
  {
   "cell_type": "code",
   "execution_count": 85,
   "metadata": {},
   "outputs": [],
   "source": [
    "next_cam = cam_proj.dot(next_pts.T).T"
   ]
  },
  {
   "cell_type": "code",
   "execution_count": 86,
   "metadata": {},
   "outputs": [
    {
     "data": {
      "text/plain": [
       "array([[-5.84687359, -7.74829476,  6.37872062,  6.57742514],\n",
       "       [-5.84687359, -7.66353769,  6.37872062,  6.57742514],\n",
       "       [-5.84687359, -7.57878063,  6.37872062,  6.57742514],\n",
       "       ...,\n",
       "       [-7.27714959, -5.37509689,  6.37872062,  6.57742514],\n",
       "       [-7.27714959, -5.29033983,  6.37872062,  6.57742514],\n",
       "       [-7.27714959, -5.20558276,  6.37872062,  6.57742514]])"
      ]
     },
     "execution_count": 86,
     "metadata": {},
     "output_type": "execute_result"
    }
   ],
   "source": [
    "next_cam"
   ]
  },
  {
   "cell_type": "code",
   "execution_count": null,
   "metadata": {},
   "outputs": [],
   "source": [
    "cam_proj.dot"
   ]
  },
  {
   "cell_type": "code",
   "execution_count": 91,
   "metadata": {},
   "outputs": [
    {
     "data": {
      "text/plain": [
       "(961, 4)"
      ]
     },
     "execution_count": 91,
     "metadata": {},
     "output_type": "execute_result"
    }
   ],
   "source": [
    "next_cam.shape"
   ]
  },
  {
   "cell_type": "code",
   "execution_count": 39,
   "metadata": {},
   "outputs": [],
   "source": [
    "nexts = (nexts[:,:2] / nexts[:,3:])*0.5+0.5"
   ]
  },
  {
   "cell_type": "code",
   "execution_count": 43,
   "metadata": {},
   "outputs": [
    {
     "data": {
      "text/plain": [
       "(array([[ 0.05553477, -0.08900669],\n",
       "        [ 0.05553477, -0.08256366],\n",
       "        [ 0.05553477, -0.07612063],\n",
       "        ...,\n",
       "        [-0.05319137,  0.09139809],\n",
       "        [-0.05319137,  0.09784112],\n",
       "        [-0.05319137,  0.10428415]]), (961, 2))"
      ]
     },
     "execution_count": 43,
     "metadata": {},
     "output_type": "execute_result"
    }
   ],
   "source": [
    "nexts, nexts.shape"
   ]
  },
  {
   "cell_type": "code",
   "execution_count": 47,
   "metadata": {},
   "outputs": [],
   "source": [
    "indices = (np.clip(nexts[:,0]*W.shape[0], 0, W.shape[0]-1).astype(np.int),\n",
    "                np.clip(nexts[:,1]*W.shape[1], 0, W.shape[1]-1).astype(np.int))"
   ]
  },
  {
   "cell_type": "code",
   "execution_count": 68,
   "metadata": {},
   "outputs": [
    {
     "data": {
      "text/plain": [
       "array([71, 71, 71, 71, 71, 71, 71, 71, 71, 71, 71, 71, 71, 71, 71, 71, 71,\n",
       "       71, 71, 71, 71, 71, 71, 71, 71, 71, 71, 71, 71, 71, 71, 66, 66, 66,\n",
       "       66, 66, 66, 66, 66, 66, 66, 66, 66, 66, 66, 66, 66, 66, 66, 66, 66,\n",
       "       66, 66, 66, 66, 66, 66, 66, 66, 66, 66, 66, 61, 61, 61, 61, 61, 61,\n",
       "       61, 61, 61, 61, 61, 61, 61, 61, 61, 61, 61, 61, 61, 61, 61, 61, 61,\n",
       "       61, 61, 61, 61, 61, 61, 61, 61, 57, 57, 57, 57, 57, 57, 57, 57, 57,\n",
       "       57, 57, 57, 57, 57, 57, 57, 57, 57, 57, 57, 57, 57, 57, 57, 57, 57,\n",
       "       57, 57, 57, 57, 57, 52, 52, 52, 52, 52, 52, 52, 52, 52, 52, 52, 52,\n",
       "       52, 52, 52, 52, 52, 52, 52, 52, 52, 52, 52, 52, 52, 52, 52, 52, 52,\n",
       "       52, 52, 47, 47, 47, 47, 47, 47, 47, 47, 47, 47, 47, 47, 47, 47, 47,\n",
       "       47, 47, 47, 47, 47, 47, 47, 47, 47, 47, 47, 47, 47, 47, 47, 47, 43,\n",
       "       43, 43, 43, 43, 43, 43, 43, 43, 43, 43, 43, 43, 43, 43, 43, 43, 43,\n",
       "       43, 43, 43, 43, 43, 43, 43, 43, 43, 43, 43, 43, 43, 38, 38, 38, 38,\n",
       "       38, 38, 38, 38, 38, 38, 38, 38, 38, 38, 38, 38, 38, 38, 38, 38, 38,\n",
       "       38, 38, 38, 38, 38, 38, 38, 38, 38, 38, 33, 33, 33, 33, 33, 33, 33,\n",
       "       33, 33, 33, 33, 33, 33, 33, 33, 33, 33, 33, 33, 33, 33, 33, 33, 33,\n",
       "       33, 33, 33, 33, 33, 33, 33, 29, 29, 29, 29, 29, 29, 29, 29, 29, 29,\n",
       "       29, 29, 29, 29, 29, 29, 29, 29, 29, 29, 29, 29, 29, 29, 29, 29, 29,\n",
       "       29, 29, 29, 29, 24, 24, 24, 24, 24, 24, 24, 24, 24, 24, 24, 24, 24,\n",
       "       24, 24, 24, 24, 24, 24, 24, 24, 24, 24, 24, 24, 24, 24, 24, 24, 24,\n",
       "       24, 20, 20, 20, 20, 20, 20, 20, 20, 20, 20, 20, 20, 20, 20, 20, 20,\n",
       "       20, 20, 20, 20, 20, 20, 20, 20, 20, 20, 20, 20, 20, 20, 20, 15, 15,\n",
       "       15, 15, 15, 15, 15, 15, 15, 15, 15, 15, 15, 15, 15, 15, 15, 15, 15,\n",
       "       15, 15, 15, 15, 15, 15, 15, 15, 15, 15, 15, 15, 10, 10, 10, 10, 10,\n",
       "       10, 10, 10, 10, 10, 10, 10, 10, 10, 10, 10, 10, 10, 10, 10, 10, 10,\n",
       "       10, 10, 10, 10, 10, 10, 10, 10, 10,  6,  6,  6,  6,  6,  6,  6,  6,\n",
       "        6,  6,  6,  6,  6,  6,  6,  6,  6,  6,  6,  6,  6,  6,  6,  6,  6,\n",
       "        6,  6,  6,  6,  6,  6,  1,  1,  1,  1,  1,  1,  1,  1,  1,  1,  1,\n",
       "        1,  1,  1,  1,  1,  1,  1,  1,  1,  1,  1,  1,  1,  1,  1,  1,  1,\n",
       "        1,  1,  1,  0,  0,  0,  0,  0,  0,  0,  0,  0,  0,  0,  0,  0,  0,\n",
       "        0,  0,  0,  0,  0,  0,  0,  0,  0,  0,  0,  0,  0,  0,  0,  0,  0,\n",
       "        0,  0,  0,  0,  0,  0,  0,  0,  0,  0,  0,  0,  0,  0,  0,  0,  0,\n",
       "        0,  0,  0,  0,  0,  0,  0,  0,  0,  0,  0,  0,  0,  0,  0,  0,  0,\n",
       "        0,  0,  0,  0,  0,  0,  0,  0,  0,  0,  0,  0,  0,  0,  0,  0,  0,\n",
       "        0,  0,  0,  0,  0,  0,  0,  0,  0,  0,  0,  0,  0,  0,  0,  0,  0,\n",
       "        0,  0,  0,  0,  0,  0,  0,  0,  0,  0,  0,  0,  0,  0,  0,  0,  0,\n",
       "        0,  0,  0,  0,  0,  0,  0,  0,  0,  0,  0,  0,  0,  0,  0,  0,  0,\n",
       "        0,  0,  0,  0,  0,  0,  0,  0,  0,  0,  0,  0,  0,  0,  0,  0,  0,\n",
       "        0,  0,  0,  0,  0,  0,  0,  0,  0,  0,  0,  0,  0,  0,  0,  0,  0,\n",
       "        0,  0,  0,  0,  0,  0,  0,  0,  0,  0,  0,  0,  0,  0,  0,  0,  0,\n",
       "        0,  0,  0,  0,  0,  0,  0,  0,  0,  0,  0,  0,  0,  0,  0,  0,  0,\n",
       "        0,  0,  0,  0,  0,  0,  0,  0,  0,  0,  0,  0,  0,  0,  0,  0,  0,\n",
       "        0,  0,  0,  0,  0,  0,  0,  0,  0,  0,  0,  0,  0,  0,  0,  0,  0,\n",
       "        0,  0,  0,  0,  0,  0,  0,  0,  0,  0,  0,  0,  0,  0,  0,  0,  0,\n",
       "        0,  0,  0,  0,  0,  0,  0,  0,  0,  0,  0,  0,  0,  0,  0,  0,  0,\n",
       "        0,  0,  0,  0,  0,  0,  0,  0,  0,  0,  0,  0,  0,  0,  0,  0,  0,\n",
       "        0,  0,  0,  0,  0,  0,  0,  0,  0,  0,  0,  0,  0,  0,  0,  0,  0,\n",
       "        0,  0,  0,  0,  0,  0,  0,  0,  0,  0,  0,  0,  0,  0,  0,  0,  0,\n",
       "        0,  0,  0,  0,  0,  0,  0,  0,  0,  0,  0,  0,  0,  0,  0,  0,  0,\n",
       "        0,  0,  0,  0,  0,  0,  0,  0,  0,  0,  0,  0,  0,  0,  0,  0,  0,\n",
       "        0,  0,  0,  0,  0,  0,  0,  0,  0,  0,  0,  0,  0,  0,  0,  0,  0,\n",
       "        0,  0,  0,  0,  0,  0,  0,  0,  0,  0,  0,  0,  0,  0,  0,  0,  0,\n",
       "        0,  0,  0,  0,  0,  0,  0,  0,  0,  0,  0,  0,  0,  0,  0,  0,  0,\n",
       "        0,  0,  0,  0,  0,  0,  0,  0,  0,  0,  0,  0,  0,  0,  0,  0,  0,\n",
       "        0,  0,  0,  0,  0,  0,  0,  0,  0,  0,  0,  0,  0,  0,  0,  0,  0,\n",
       "        0,  0,  0,  0,  0,  0,  0,  0,  0,  0,  0,  0,  0,  0,  0,  0,  0,\n",
       "        0,  0,  0,  0,  0,  0,  0,  0,  0])"
      ]
     },
     "execution_count": 68,
     "metadata": {},
     "output_type": "execute_result"
    }
   ],
   "source": [
    "indices[0]"
   ]
  },
  {
   "cell_type": "code",
   "execution_count": 57,
   "metadata": {},
   "outputs": [],
   "source": [
    "length = np.sqrt(np.sum((W[indices] - W[x,y])**2, axis=-1))[...,np.newaxis]\n",
    "dists = 1.0 - np.clip(length / 1.0, 0, 1)"
   ]
  },
  {
   "cell_type": "code",
   "execution_count": 65,
   "metadata": {},
   "outputs": [
    {
     "data": {
      "text/plain": [
       "array([[15.85577933],\n",
       "       [15.85577933],\n",
       "       [15.85577933],\n",
       "       [15.85577933],\n",
       "       [15.85577933],\n",
       "       [15.85577933],\n",
       "       [15.85577933],\n",
       "       [15.85577933],\n",
       "       [15.85577933],\n",
       "       [15.85577933],\n",
       "       [15.85577933],\n",
       "       [15.85577933],\n",
       "       [15.85577933],\n",
       "       [15.85577933],\n",
       "       [15.85577933],\n",
       "       [15.80008271],\n",
       "       [15.74512328],\n",
       "       [15.70182531],\n",
       "       [15.64834459],\n",
       "       [15.59900609]])"
      ]
     },
     "execution_count": 65,
     "metadata": {},
     "output_type": "execute_result"
    }
   ],
   "source": [
    "length[:20]"
   ]
  },
  {
   "cell_type": "code",
   "execution_count": null,
   "metadata": {},
   "outputs": [],
   "source": []
  }
 ],
 "metadata": {
  "kernelspec": {
   "display_name": "Python 3",
   "language": "python",
   "name": "python3"
  },
  "language_info": {
   "codemirror_mode": {
    "name": "ipython",
    "version": 3
   },
   "file_extension": ".py",
   "mimetype": "text/x-python",
   "name": "python",
   "nbconvert_exporter": "python",
   "pygments_lexer": "ipython3",
   "version": "3.7.1"
  }
 },
 "nbformat": 4,
 "nbformat_minor": 2
}
