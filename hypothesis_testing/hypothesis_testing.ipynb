{
 "cells": [
  {
   "cell_type": "markdown",
   "metadata": {},
   "source": [
    "# Hypothesis testing\n",
    "\n",
    "In this notebook we will examine one of the foundational pillars of basic statistics. We will be looking at the hypothesis test. We will:\n",
    "\n",
    "1. Look at what a hypothesis test is.\n",
    "\n",
    "2. Perform a hypothesis test on the [R 'CO2' dataset](https://stat.ethz.ch/R-manual/R-devel/library/datasets/html/zCO2.html).\n",
    "\n",
    "3. Perform a better hypothesis test on the same dataset.\n",
    "\n",
    "4. Analyze the results of our hypothesis test to understand what it means.\n",
    "\n",
    "This post will be targeted at relative beginners and I will be using certain vocabulary terms (like sample, data, distribution) interchangly here to make concepts easier to understand. This may rile some feathers: oh well."
   ]
  },
  {
   "cell_type": "markdown",
   "metadata": {},
   "source": [
    "# What is a hypothesis test?\n",
    "\n",
    "Put simply **a hypothesis test is tool we can use to answer a question.** Here is our question: We want to know **whether or not cooling plants affects (increases or decreases) their CO2 absorbtion.** In a hypothesis test we formulate two possible outcomes (answers to our question) as 'hypotheses.' The hypothesis test looks like:\n",
    "\n",
    "Hypothesis 1: Chilling plants does not affect their CO2 absorbtion.\n",
    "\n",
    "Hypothesis 2: Chilling plants does affect their CO2 absorbtion.\n",
    "\n",
    "We will call Hypothesis 1 the 'Null Hypothesis' because this is the outcome where nothing or 'null' happens. We will call Hypothesis 2 the 'Alternate Hypothesis' this is the outcome that differs from the null hypothesis: chilling plants affects their CO2 absorbtion.\n",
    "\n",
    "The dataset we will be using is the [R 'CO2' dataset](https://stat.ethz.ch/R-manual/R-devel/library/datasets/html/zCO2.html). In this dataset the CO2 (carbon dioxide) absorbtion rate of chilled plants and the CO2 absorbtion rates of unchilled plants was measured. I have cleaned the data by removing the index, I suggest you use my [data file]() or do the same. We will take this data and use a hypothesis test to determine if the CO2 absorbtion of plants in a 'chilled' environment differs from plants in a 'non-chilled' environment."
   ]
  },
  {
   "cell_type": "code",
   "execution_count": 1,
   "metadata": {
    "collapsed": true
   },
   "outputs": [],
   "source": [
    "# import some useful packages\n",
    "%matplotlib inline\n",
    "\n",
    "import pandas as pd\n",
    "import numpy as np\n",
    "from scipy import stats\n",
    "from fitter import Fitter\n",
    "import matplotlib.pyplot as plt\n",
    "\n",
    "# silence warnings for beautification\n",
    "import warnings\n",
    "warnings.filterwarnings('ignore')"
   ]
  },
  {
   "cell_type": "code",
   "execution_count": 2,
   "metadata": {
    "collapsed": false
   },
   "outputs": [
    {
     "data": {
      "text/html": [
       "<div>\n",
       "<table border=\"1\" class=\"dataframe\">\n",
       "  <thead>\n",
       "    <tr style=\"text-align: right;\">\n",
       "      <th></th>\n",
       "      <th>Plant</th>\n",
       "      <th>Type</th>\n",
       "      <th>Treatment</th>\n",
       "      <th>conc</th>\n",
       "      <th>uptake</th>\n",
       "    </tr>\n",
       "  </thead>\n",
       "  <tbody>\n",
       "    <tr>\n",
       "      <th>0</th>\n",
       "      <td>Qn1</td>\n",
       "      <td>Quebec</td>\n",
       "      <td>nonchilled</td>\n",
       "      <td>95</td>\n",
       "      <td>16.0</td>\n",
       "    </tr>\n",
       "    <tr>\n",
       "      <th>1</th>\n",
       "      <td>Qn1</td>\n",
       "      <td>Quebec</td>\n",
       "      <td>nonchilled</td>\n",
       "      <td>175</td>\n",
       "      <td>30.4</td>\n",
       "    </tr>\n",
       "    <tr>\n",
       "      <th>2</th>\n",
       "      <td>Qn1</td>\n",
       "      <td>Quebec</td>\n",
       "      <td>nonchilled</td>\n",
       "      <td>250</td>\n",
       "      <td>34.8</td>\n",
       "    </tr>\n",
       "    <tr>\n",
       "      <th>3</th>\n",
       "      <td>Qn1</td>\n",
       "      <td>Quebec</td>\n",
       "      <td>nonchilled</td>\n",
       "      <td>350</td>\n",
       "      <td>37.2</td>\n",
       "    </tr>\n",
       "    <tr>\n",
       "      <th>4</th>\n",
       "      <td>Qn1</td>\n",
       "      <td>Quebec</td>\n",
       "      <td>nonchilled</td>\n",
       "      <td>500</td>\n",
       "      <td>35.3</td>\n",
       "    </tr>\n",
       "  </tbody>\n",
       "</table>\n",
       "</div>"
      ],
      "text/plain": [
       "  Plant    Type   Treatment  conc  uptake\n",
       "0   Qn1  Quebec  nonchilled    95    16.0\n",
       "1   Qn1  Quebec  nonchilled   175    30.4\n",
       "2   Qn1  Quebec  nonchilled   250    34.8\n",
       "3   Qn1  Quebec  nonchilled   350    37.2\n",
       "4   Qn1  Quebec  nonchilled   500    35.3"
      ]
     },
     "execution_count": 2,
     "metadata": {},
     "output_type": "execute_result"
    }
   ],
   "source": [
    "# create a dataframe df with our data\n",
    "df = pd.read_csv('co2_data.csv')\n",
    "df.head()"
   ]
  },
  {
   "cell_type": "markdown",
   "metadata": {},
   "source": [
    "We need to have a look quickly at the data to make sure it doesn't have any weird characteristics. Lets check that the number of chilled and nonchilled plants is the same. Below we can see they are even; if they weren't this would make it harder to do our hypothesis test."
   ]
  },
  {
   "cell_type": "code",
   "execution_count": 3,
   "metadata": {
    "collapsed": false
   },
   "outputs": [
    {
     "name": "stdout",
     "output_type": "stream",
     "text": [
      "num chilled: 42, num normal: 42\n"
     ]
    }
   ],
   "source": [
    "# count how many chilled/unchilled plant measurements we have\n",
    "nonchill_plants = df[df['Treatment'] == 'nonchilled']\n",
    "chill_plants = df[df['Treatment'] == 'chilled']\n",
    "num_nonchilled = nonchill_plants.shape[0]\n",
    "num_chilled = chill_plants.shape[0]\n",
    "print('num chilled: {}, num normal: {}'.format(num_chilled, num_nonchilled))"
   ]
  },
  {
   "cell_type": "markdown",
   "metadata": {},
   "source": [
    "In many instances it's better to have more data than this (42 samples) to be able to make firmly reject or accept a hypothesis, usually a sample of at least 100 is considered desirable for being able to answer hypotheses. 42 is not too low though and we can probably get away with using this many samples.\n",
    "\n",
    "Now lets check that the number of observations is even across recording concentrations. If there are more expermiments at higher or lower concentrations of CO2 this could affect our ability to test. It looks like the number of experiments at each concentration is indeed even."
   ]
  },
  {
   "cell_type": "code",
   "execution_count": 4,
   "metadata": {
    "collapsed": false
   },
   "outputs": [
    {
     "data": {
      "text/plain": [
       "conc\n",
       "95      12\n",
       "175     12\n",
       "250     12\n",
       "350     12\n",
       "500     12\n",
       "675     12\n",
       "1000    12\n",
       "dtype: int64"
      ]
     },
     "execution_count": 4,
     "metadata": {},
     "output_type": "execute_result"
    }
   ],
   "source": [
    "# check to see if there is bias\n",
    "# in the concentrations of CO2\n",
    "df.groupby('conc').size()"
   ]
  },
  {
   "cell_type": "markdown",
   "metadata": {},
   "source": [
    "Let's graph the CO2 absorbtion values for non-chilled plants. We will call this distribution our 'non-chilled' distribution."
   ]
  },
  {
   "cell_type": "code",
   "execution_count": 5,
   "metadata": {
    "collapsed": false
   },
   "outputs": [
    {
     "data": {
      "image/png": "[encoded data removed]",
      "text/plain": [
       "<matplotlib.figure.Figure at 0x11a4101d0>"
      ]
     },
     "metadata": {},
     "output_type": "display_data"
    }
   ],
   "source": [
    "plt.figure(figsize=(12.5,10))\n",
    "plt.hist(nonchill_plants['uptake'], color='C3', label='non-chilled', alpha=0.7)\n",
    "plt.xlabel('CO2 Absorbtion')\n",
    "plt.ylabel('Count')\n",
    "plt.legend(loc='upper left')\n",
    "plt.title('Non-chilled plant data')\n",
    "plt.show()"
   ]
  },
  {
   "cell_type": "markdown",
   "metadata": {},
   "source": [
    "**So we have our data:**\n",
    "\n",
    "Our distribution of non-chilled plants has two (or three?) bumps, with most data points in the right bump.\n",
    "\n",
    "**And we have our hypotheses:**\n",
    "\n",
    "*Null Hypothesis*: Chilling plants does not affect their CO2 absorbtion.\n",
    "\n",
    "*Alternate Hypothesis*: Chilling plants does affect (increase or decrease) their CO2 absorbtion.\n",
    "\n",
    "**Now we need to find out which hypothesis occurred by looking at the data.**\n",
    "\n",
    "One way to find out is to compare the distributions of the data with our eyes. If the chilled plant distribution differs significantly from the non-chilled distribution then the *alternate hypothesis* is probably correct. If the two distributions are the same then then *null hypothesis* is probably correct. Let's graph both distributions and compare."
   ]
  },
  {
   "cell_type": "code",
   "execution_count": 6,
   "metadata": {
    "collapsed": false
   },
   "outputs": [
    {
     "data": {
      "image/png": "[encoded data removed]",
      "text/plain": [
       "<matplotlib.figure.Figure at 0x11da67b00>"
      ]
     },
     "metadata": {},
     "output_type": "display_data"
    }
   ],
   "source": [
    "plt.figure(figsize=(12.5,10))\n",
    "plt.hist(nonchill_plants['uptake'], label='non-chilled', color='C3', alpha=0.7)\n",
    "plt.hist(chill_plants['uptake'], label='chilled', color='C0', alpha=0.7)\n",
    "plt.xlabel('CO2 Absorbtion')\n",
    "plt.ylabel('Count')\n",
    "plt.legend(loc='upper left')\n",
    "plt.title('Non-chilled plant data overlaid with chilled plant data')\n",
    "plt.show()"
   ]
  },
  {
   "cell_type": "markdown",
   "metadata": {},
   "source": [
    "This chilled plant distrbiution (blue) looks significantly rebalanced towards lower values of CO2 absorbtion. **This implies that the chilling of plants affects their CO2 absorbtion; we can choose our alternate hypothesis as correct:**\n",
    "\n",
    "~~*Null Hypothesis*: Chilling plants does not affect their CO2 absorbtion.~~\n",
    "\n",
    "*Alternate Hypothesis*: Chilling plants does affect (increase or decrease) their CO2 absorbtion.\n",
    "\n",
    "Comparing distribtutions with your eyes is the simplest way to choose between two possible hypotheses."
   ]
  },
  {
   "cell_type": "markdown",
   "metadata": {},
   "source": [
    "# Statistical tests\n",
    "\n",
    "While the prior method seems ot work well enough for the problem posed here it is not entirely robust. Sometimes two distributions are not easy to tell apart. How can we objectively tell when one distribution is different from another distribution?\n",
    "\n",
    "You can use something called a **statistical test: it tells you how similar two distributions are** or more precisely it tells you the probability (p-value) that data you are testing came from a particular distribution. Below we are going to perform a statistical test to see if our chillled plant data comes from the same distribution as our non-chilled plant data.\n",
    "\n",
    "In python you can perform a statistical test using [scipy.stats](https://docs.scipy.org/doc/scipy/reference/stats.html) for any well defined distribution but our distribution of non-chilled plant CO2 absorbtion is not well defined and has no test. So we're going to find a well known distribution that is as similar as possible to our non-chilled distribution, we can use the [fitter](https://github.com/cokelaer/fitter) package which just does a lot of the nasty work of iterating through possible distributions for us to find the distribution that is most similar to our non-chilled distribution.\n",
    "\n",
    "Lets find out which distribution our non-chilled plant data comes from:"
   ]
  },
  {
   "cell_type": "code",
   "execution_count": 7,
   "metadata": {
    "collapsed": false
   },
   "outputs": [
    {
     "name": "stdout",
     "output_type": "stream",
     "text": [
      "non-chilled plant co2 absorbtion\n",
      "dstribution: genhalflogistic\n",
      "best distribution shape: (0.83770454292175289, 10.599999993744611, 29.353144088738148)\n",
      "best 5 distributions, lowest 5 errors:\n"
     ]
    },
    {
     "data": {
      "text/html": [
       "<div>\n",
       "<table border=\"1\" class=\"dataframe\">\n",
       "  <thead>\n",
       "    <tr style=\"text-align: right;\">\n",
       "      <th></th>\n",
       "      <th>sumsquare_error</th>\n",
       "    </tr>\n",
       "  </thead>\n",
       "  <tbody>\n",
       "    <tr>\n",
       "      <th>genhalflogistic</th>\n",
       "      <td>0.001242</td>\n",
       "    </tr>\n",
       "    <tr>\n",
       "      <th>triang</th>\n",
       "      <td>0.001385</td>\n",
       "    </tr>\n",
       "    <tr>\n",
       "      <th>powerlaw</th>\n",
       "      <td>0.001389</td>\n",
       "    </tr>\n",
       "    <tr>\n",
       "      <th>genextreme</th>\n",
       "      <td>0.001401</td>\n",
       "    </tr>\n",
       "    <tr>\n",
       "      <th>burr</th>\n",
       "      <td>0.001413</td>\n",
       "    </tr>\n",
       "  </tbody>\n",
       "</table>\n",
       "</div>"
      ],
      "text/plain": [
       "                 sumsquare_error\n",
       "genhalflogistic         0.001242\n",
       "triang                  0.001385\n",
       "powerlaw                0.001389\n",
       "genextreme              0.001401\n",
       "burr                    0.001413"
      ]
     },
     "execution_count": 7,
     "metadata": {},
     "output_type": "execute_result"
    }
   ],
   "source": [
    "f = Fitter(nonchill_plants['uptake'], bins=10)\n",
    "f.verbose = False\n",
    "f.fit()\n",
    "best_shape_1 = f.get_best()\n",
    "dst1 = list(best_shape_1.keys())[0]\n",
    "print('non-chilled plant co2 absorbtion')\n",
    "print('dstribution: {}'.format(dst1))\n",
    "print('best distribution shape: {}'.format(best_shape_1[dst1]))\n",
    "print('best 5 distributions, lowest 5 errors:')\n",
    "f.df_errors.sort(columns=['sumsquare_error'], ascending=True).ix[:5]"
   ]
  },
  {
   "cell_type": "markdown",
   "metadata": {},
   "source": [
    "It looks like the [genhalflogistic distribution](https://docs.scipy.org/doc/scipy/reference/generated/scipy.stats.genhalflogistic.html#scipy.stats.genhalflogistic)  is the one that fits our non-chilled data most closely with an error value of 0.001242. We will use this distribution to test our hypotheses. Let's visually inspect the genhalflogisitc distribution to confirm that this distribution is similiar to our non-chilled plant data."
   ]
  },
  {
   "cell_type": "code",
   "execution_count": 8,
   "metadata": {
    "collapsed": false
   },
   "outputs": [
    {
     "data": {
      "image/png": "[encoded data removed]",
      "text/plain": [
       "<matplotlib.figure.Figure at 0x11df875f8>"
      ]
     },
     "metadata": {},
     "output_type": "display_data"
    }
   ],
   "source": [
    "rvf = stats.genhalflogistic.pdf(x=[x for x in range(11,46)], c=best_shape_1[dst1][0], loc=best_shape_1[dst1][1], scale=best_shape_1[dst1][2])\n",
    "plt.figure(figsize=(12.5,10))\n",
    "plt.hist(nonchill_plants['uptake'], label='non-chilled', color='C3', alpha=0.7, normed=True, bins=10)\n",
    "plt.plot([x for x in range(11,46)], rvf, label='genhalflogistic', color='C3')\n",
    "plt.xlabel('CO2 Absorbtion')\n",
    "plt.ylabel('Count')\n",
    "plt.legend(loc='upper left')\n",
    "plt.title('Non-Chilled plant distribution and genhalflogistic distribution')\n",
    "plt.show()"
   ]
  },
  {
   "cell_type": "markdown",
   "metadata": {},
   "source": [
    "It's not perfect but it looks like the genhalflogisitic distribution does indeed match our non-chilled plant data to a high degree. Both slope upward to the right and both have a little dip around 15-25 along the `CO2 Absorbtion` axis. \n",
    "\n",
    "We can say that if the chilled plant distribution is sufficiently different from the genhalflogistic distribution representing our non-chilled plant data that the chilled plants have had their CO2 absorbtion affected.\n",
    "\n",
    "To measure how different the chilled plant data is from the genhalflogistic distribution we use something called a p-value. The p-value is just the probability that a certain sample of data came from a certain distribution. If we get a low enough p-value when we check to see if chilled data came from our genhalflogisitic distribution we can conclude that chilled plant data follows a different distribution and behaves differently from non-chilled data in terms of CO2 absorbtion.\n",
    "\n",
    "To get p-value with our genhalflogisitc distribution and our chilled plant data we will feed both those into something called a Kolmogorov-Smirnov test, or [ks-test](https://docs.scipy.org/doc/scipy-0.14.0/reference/generated/scipy.stats.kstest.html). Let's calculate some p values."
   ]
  },
  {
   "cell_type": "code",
   "execution_count": 9,
   "metadata": {
    "collapsed": false
   },
   "outputs": [
    {
     "name": "stdout",
     "output_type": "stream",
     "text": [
      "p-value (probability) of non-chilled data being from our genhalflogistic:  0.639477797842\n",
      "p-value (probability) of chilled data being from our genhalflogistic:  2.24809405358e-05\n"
     ]
    }
   ],
   "source": [
    "_, nonchilled_pvalue = stats.kstest(nonchill_plants['uptake'], 'genhalflogistic', args=best_shape_1[dst1])\n",
    "_, chilled_pvalue = stats.kstest(chill_plants['uptake'], 'genhalflogistic', args=best_shape_1[dst1])\n",
    "print('p-value (probability) of non-chilled data being from our genhalflogistic: ', nonchilled_pvalue)\n",
    "print('p-value (probability) of chilled data being from our genhalflogistic: ', chilled_pvalue)"
   ]
  },
  {
   "cell_type": "markdown",
   "metadata": {},
   "source": [
    "The probability that the non-chilled data is from this genhalflogistic distribution is 63.94% (p-value 0.6394). This makes sense as the genhalflogisitic distribution was craeted using this data and shaped around it. \n",
    "\n",
    "The **probability that the chilled plant data came from our genhalflogistic distribution is small: .00224%** (p-value 0.0000224). Usually if a p-value is lower than 0.05 you can say the p-value is 'small enough.' The statistics lingo for when we get a 'small enough' p-value is that the result we have observed is 'statistically significant.' The low probability that our  chilled data came from the same distribution as our non-chilled data **suggests that when the plants are chilled their distribution of CO2 absorbtion changes significantly.** We can verify this quickly by using fitter again and seeing what distribution our chilled plant data follows.\n",
    "\n",
    "**Notes on p-value:**\n",
    "\n",
    "What threshold to pick for your p-value is largely arbitrary, usually people accept 0.05 or lower, nowadays with increasing amounts of data it's getting easier to get a p-value of 0.05 and some people prefer to set the threshold lower at 0.01 or lower. [Here is a comic](https://imgs.xkcd.com/comics/p_values.png) that was meant as a joke but actually offers some insight into interpreting p-values."
   ]
  },
  {
   "cell_type": "code",
   "execution_count": 10,
   "metadata": {
    "collapsed": false,
    "scrolled": true
   },
   "outputs": [
    {
     "name": "stdout",
     "output_type": "stream",
     "text": [
      "chilled plant co2 absorbtion\n",
      "dstribution: dweibull\n",
      "best distribution shape: (2.6804403695668575, 25.999783783267702, 11.415991122238617)\n",
      "best 5 distributions, lowest 5 errors:\n"
     ]
    },
    {
     "data": {
      "text/html": [
       "<div>\n",
       "<table border=\"1\" class=\"dataframe\">\n",
       "  <thead>\n",
       "    <tr style=\"text-align: right;\">\n",
       "      <th></th>\n",
       "      <th>sumsquare_error</th>\n",
       "    </tr>\n",
       "  </thead>\n",
       "  <tbody>\n",
       "    <tr>\n",
       "      <th>dweibull</th>\n",
       "      <td>0.000780</td>\n",
       "    </tr>\n",
       "    <tr>\n",
       "      <th>bradford</th>\n",
       "      <td>0.001794</td>\n",
       "    </tr>\n",
       "    <tr>\n",
       "      <th>gausshyper</th>\n",
       "      <td>0.001801</td>\n",
       "    </tr>\n",
       "    <tr>\n",
       "      <th>johnsonsb</th>\n",
       "      <td>0.001816</td>\n",
       "    </tr>\n",
       "    <tr>\n",
       "      <th>truncexpon</th>\n",
       "      <td>0.001875</td>\n",
       "    </tr>\n",
       "  </tbody>\n",
       "</table>\n",
       "</div>"
      ],
      "text/plain": [
       "            sumsquare_error\n",
       "dweibull           0.000780\n",
       "bradford           0.001794\n",
       "gausshyper         0.001801\n",
       "johnsonsb          0.001816\n",
       "truncexpon         0.001875"
      ]
     },
     "execution_count": 10,
     "metadata": {},
     "output_type": "execute_result"
    }
   ],
   "source": [
    "f = Fitter(chill_plants['uptake'], bins=10)\n",
    "f.verbose = False\n",
    "f.fit()\n",
    "best_shape_2 = f.get_best()\n",
    "dst2 = list(best_shape_2.keys())[0]\n",
    "print('chilled plant co2 absorbtion')\n",
    "print('dstribution: {}'.format(dst2))\n",
    "print('best distribution shape: {}'.format(best_shape_2[dst2]))\n",
    "print('best 5 distributions, lowest 5 errors:')\n",
    "f.df_errors.sort(columns=['sumsquare_error'], ascending=True).ix[:5]"
   ]
  },
  {
   "cell_type": "markdown",
   "metadata": {},
   "source": [
    "It looks like the best fit for the chilled plant data is in fact a [double weibull distribution](https://docs.scipy.org/doc/scipy-0.18.1/reference/generated/scipy.stats.dweibull.html#scipy.stats.dweibull) with error value of 0.000780. This distribution looks quite different from our genhalflogistic reprsenting the non-chilled plant data. We will graph the double weibull and the chilled palnt data below. You can compare it to the graph above to see the difference."
   ]
  },
  {
   "cell_type": "code",
   "execution_count": 11,
   "metadata": {
    "collapsed": false
   },
   "outputs": [
    {
     "data": {
      "image/png": "[encoded data removed]",
      "text/plain": [
       "<matplotlib.figure.Figure at 0x11dfe2358>"
      ]
     },
     "metadata": {},
     "output_type": "display_data"
    }
   ],
   "source": [
    "rvf_dwe = stats.dweibull.pdf(x=[x for x in range(8,43)],\n",
    "                             c=best_shape_2[dst2][0], \n",
    "                             loc=best_shape_2[dst2][1], \n",
    "                             scale=best_shape_2[dst2][2])\n",
    "plt.figure(figsize=(12.5,10))\n",
    "plt.hist(chill_plants['uptake'], label='chilled', color='C0', alpha=0.7, normed=True, bins=10)\n",
    "plt.plot([x for x in range(8,43)], rvf_dwe, label='dweibull', color='C0')\n",
    "plt.xlabel('CO2 Absorbtion')\n",
    "plt.ylabel('Count')\n",
    "plt.legend(loc='upper left')\n",
    "plt.title('Chilled pland distribution and double weibull distribution')\n",
    "plt.show()"
   ]
  },
  {
   "cell_type": "markdown",
   "metadata": {},
   "source": [
    "# Conclusion"
   ]
  },
  {
   "cell_type": "markdown",
   "metadata": {},
   "source": [
    "Given the low p-value we found testing chilled plant data against the genhalflogistic distrbution we can reject our null hypothesis and accept our alternate hypothesis:\n",
    "\n",
    "~~*Null Hypothesis*: Chilling plants does not affect their CO2 absorbtion.~~\n",
    "\n",
    "***Alternate Hypothesis*: Chilling plants does affect their CO2 absorbtion.**\n",
    "\n",
    "We also further confirmed that the chilled plant data follows a very different distribution than the non-chilled data. Further confirming our hypothesis that **chilling plants does affect their CO2 absorbtion.**\n",
    "\n",
    "In this writeup you should have learned the basic underlying concept behind a hypothesis test and how we can use it to answer questions. Further you should have learned how to fit a distribution to your baseline data and then perform a statistical test on your alternate data to see if the difference between the two distributions is statistically significant.\n",
    "\n",
    "I simplified some parts of this writeup and you may find ways to poke holes through it. I love when people do this; the best way to enjoy a writeup is often to deconstruct it.\n",
    "\n",
    "## If you'd like to get the next blog post you can [signup here](https://yvanscher.wufoo.com/forms/z189vjhh1g7pmk0/)."
   ]
  },
  {
   "cell_type": "code",
   "execution_count": null,
   "metadata": {
    "collapsed": true
   },
   "outputs": [],
   "source": []
  }
 ],
 "metadata": {
  "kernelspec": {
   "display_name": "Python 3",
   "language": "python",
   "name": "python3"
  },
  "language_info": {
   "codemirror_mode": {
    "name": "ipython",
    "version": 3
   },
   "file_extension": ".py",
   "mimetype": "text/x-python",
   "name": "python",
   "nbconvert_exporter": "python",
   "pygments_lexer": "ipython3",
   "version": "3.6.0"
  }
 },
 "nbformat": 4,
 "nbformat_minor": 2
}
